{
 "cells": [
  {
   "cell_type": "markdown",
   "id": "57968ab5",
   "metadata": {},
   "source": [
    "# Audio Transcripts Summarizer"
   ]
  },
  {
   "cell_type": "code",
   "execution_count": 1,
   "id": "e6629678-d45b-4dd8-a212-ce58ab4b5807",
   "metadata": {},
   "outputs": [],
   "source": [
    "from vosk import Model, KaldiRecognizer\n",
    "from pydub import AudioSegment\n",
    "import json\n",
    "from transformers import AutoModelForSeq2SeqLM, AutoTokenizer, pipeline"
   ]
  },
  {
   "cell_type": "code",
   "execution_count": 2,
   "id": "8a685c44",
   "metadata": {},
   "outputs": [],
   "source": [
    "FRAME_RATE = 16000\n",
    "CHANNELS = 1"
   ]
  },
  {
   "cell_type": "code",
   "execution_count": 3,
   "id": "9b442a1f",
   "metadata": {},
   "outputs": [
    {
     "name": "stderr",
     "output_type": "stream",
     "text": [
      "LOG (VoskAPI:ReadDataFiles():model.cc:213) Decoding params beam=13 max-active=7000 lattice-beam=6\n",
      "LOG (VoskAPI:ReadDataFiles():model.cc:216) Silence phones 1:2:3:4:5:11:12:13:14:15\n",
      "LOG (VoskAPI:RemoveOrphanNodes():nnet-nnet.cc:948) Removed 0 orphan nodes.\n",
      "LOG (VoskAPI:RemoveOrphanComponents():nnet-nnet.cc:847) Removing 0 orphan components.\n",
      "LOG (VoskAPI:ReadDataFiles():model.cc:248) Loading i-vector extractor from vosk-model-en-us-0.22/ivector/final.ie\n",
      "LOG (VoskAPI:ComputeDerivedVars():ivector-extractor.cc:183) Computing derived variables for iVector extractor\n",
      "LOG (VoskAPI:ComputeDerivedVars():ivector-extractor.cc:204) Done.\n",
      "LOG (VoskAPI:ReadDataFiles():model.cc:279) Loading HCLG from vosk-model-en-us-0.22/graph/HCLG.fst\n",
      "LOG (VoskAPI:ReadDataFiles():model.cc:294) Loading words from vosk-model-en-us-0.22/graph/words.txt\n",
      "LOG (VoskAPI:ReadDataFiles():model.cc:303) Loading winfo vosk-model-en-us-0.22/graph/phones/word_boundary.int\n",
      "LOG (VoskAPI:ReadDataFiles():model.cc:310) Loading subtract G.fst model from vosk-model-en-us-0.22/rescore/G.fst\n",
      "LOG (VoskAPI:ReadDataFiles():model.cc:312) Loading CARPA model from vosk-model-en-us-0.22/rescore/G.carpa\n",
      "LOG (VoskAPI:ReadDataFiles():model.cc:318) Loading RNNLM model from vosk-model-en-us-0.22/rnnlm/final.raw\n"
     ]
    }
   ],
   "source": [
    "MODEL_PATH = \"vosk-model-en-us-0.22\"\n",
    "model = Model(MODEL_PATH)"
   ]
  },
  {
   "cell_type": "code",
   "execution_count": 4,
   "id": "8529cd3a-0cdb-44c4-9b44-3bdb3c3c8413",
   "metadata": {},
   "outputs": [],
   "source": [
    "# model = Model(model_name=\"vosk-model-en-us-0.22\")\n",
    "# For a smaller download size, use model = Model(model_name=\"vosk-model-small-en-us-0.15\")\n",
    "rec = KaldiRecognizer(model, FRAME_RATE)\n",
    "rec.SetWords(True)"
   ]
  },
  {
   "cell_type": "code",
   "execution_count": 5,
   "id": "5a2908b5-bff4-4c43-a871-823166fd61fd",
   "metadata": {},
   "outputs": [],
   "source": [
    "mp3 = AudioSegment.from_mp3(\"marketplace.mp3\")\n",
    "mp3 = mp3.set_channels(CHANNELS)\n",
    "mp3 = mp3.set_frame_rate(FRAME_RATE)"
   ]
  },
  {
   "cell_type": "code",
   "execution_count": 6,
   "id": "9e3e81d0-0178-483e-9186-76916ffc5fd8",
   "metadata": {},
   "outputs": [],
   "source": [
    "rec.AcceptWaveform(mp3.raw_data)\n",
    "result = rec.Result()"
   ]
  },
  {
   "cell_type": "code",
   "execution_count": 7,
   "id": "b3234255",
   "metadata": {},
   "outputs": [
    {
     "data": {
      "text/plain": [
       "'{\\n  \"result\" : [{\\n      \"conf\" : 1.000000,\\n      \"end\" : 0.180000,\\n      \"start\" : 0.090000,\\n      \"word\" : \"the\"\\n    }, {\\n      \"conf\" : 1.000000,\\n      \"end\" : 0.570000,\\n      \"start\" : 0.180000,\\n      \"word\" : \"funny\"\\n    }, {\\n      \"conf\" : 1.000000,\\n      \"end\" : 0.960000,\\n      \"start\" : 0.600000,\\n      \"word\" : \"thing\"\\n    }, {\\n      \"conf\" : 1.000000,\\n      \"end\" : 1.230000,\\n      \"start\" : 0.960000,\\n      \"word\" : \"about\"\\n    }, {\\n      \"conf\" : 1.000000,\\n      \"end\" : 1.320000,\\n      \"start\" : 1.230000,\\n      \"word\" : \"the\"\\n    }, {\\n      \"conf\" : 1.000000,\\n      \"end\" : 1.680000,\\n      \"start\" : 1.320000,\\n      \"word\" : \"big\"\\n    }, {\\n      \"conf\" : 1.000000,\\n      \"end\" : 2.220000,\\n      \"start\" : 1.710000,\\n      \"word\" : \"economic\"\\n    }, {\\n      \"conf\" : 1.000000,\\n      \"end\" : 2.490000,\\n      \"start\" : 2.220000,\\n      \"word\" : \"news\"\\n    }, {\\n      \"conf\" : 1.000000,\\n      \"end\" : 2.580000,\\n      \"start\" : 2.490000,\\n      \"word\" : \"of\"\\n    }, {\\n      \"conf\" : 1.000000,\\n      \"end\" : 2.670000,\\n      \"start\" : 2.580000,\\n      \"word\" : \"the\"\\n    }, {\\n      \"conf\" : 1.000000,\\n      \"end\" : 3.060000,\\n      \"start\" : 2.670000,\\n      \"word\" : \"day\"\\n    }, {\\n      \"conf\" : 1.000000,\\n      \"end\" : 3.750000,\\n      \"start\" : 3.630000,\\n      \"word\" : \"the\"\\n    }, {\\n      \"conf\" : 1.000000,\\n      \"end\" : 3.960000,\\n      \"start\" : 3.750000,\\n      \"word\" : \"fed\"\\n    }, {\\n      \"conf\" : 1.000000,\\n      \"end\" : 4.260000,\\n      \"start\" : 3.960000,\\n      \"word\" : \"raising\"\\n    }, {\\n      \"conf\" : 1.000000,\\n      \"end\" : 4.590000,\\n      \"start\" : 4.260000,\\n      \"word\" : \"interest\"\\n    }, {\\n      \"conf\" : 1.000000,\\n      \"end\" : 4.980000,\\n      \"start\" : 4.590000,\\n      \"word\" : \"rates\"\\n    }, {\\n      \"conf\" : 1.000000,\\n      \"end\" : 5.280000,\\n      \"start\" : 5.010000,\\n      \"word\" : \"half\"\\n    }, {\\n      \"conf\" : 1.000000,\\n      \"end\" : 5.310000,\\n      \"start\" : 5.280000,\\n      \"word\" : \"a\"\\n    }, {\\n      \"conf\" : 1.000000,\\n      \"end\" : 5.700000,\\n      \"start\" : 5.310000,\\n      \"word\" : \"percentage\"\\n    }, {\\n      \"conf\" : 1.000000,\\n      \"end\" : 6.000000,\\n      \"start\" : 5.700000,\\n      \"word\" : \"point\"\\n    }, {\\n      \"conf\" : 1.000000,\\n      \"end\" : 6.870000,\\n      \"start\" : 6.600000,\\n      \"word\" : \"was\"\\n    }, {\\n      \"conf\" : 1.000000,\\n      \"end\" : 6.960000,\\n      \"start\" : 6.870000,\\n      \"word\" : \"that\"\\n    }, {\\n      \"conf\" : 1.000000,\\n      \"end\" : 7.080000,\\n      \"start\" : 6.960000,\\n      \"word\" : \"there\"\\n    }, {\\n      \"conf\" : 1.000000,\\n      \"end\" : 7.230000,\\n      \"start\" : 7.080000,\\n      \"word\" : \"was\"\\n    }, {\\n      \"conf\" : 1.000000,\\n      \"end\" : 7.470000,\\n      \"start\" : 7.230000,\\n      \"word\" : \"only\"\\n    }, {\\n      \"conf\" : 1.000000,\\n      \"end\" : 7.770000,\\n      \"start\" : 7.470000,\\n      \"word\" : \"really\"\\n    }, {\\n      \"conf\" : 1.000000,\\n      \"end\" : 8.130000,\\n      \"start\" : 7.770000,\\n      \"word\" : \"one\"\\n    }, {\\n      \"conf\" : 1.000000,\\n      \"end\" : 8.640000,\\n      \"start\" : 8.130000,\\n      \"word\" : \"tidbit\"\\n    }, {\\n      \"conf\" : 1.000000,\\n      \"end\" : 8.820000,\\n      \"start\" : 8.640000,\\n      \"word\" : \"of\"\\n    }, {\\n      \"conf\" : 1.000000,\\n      \"end\" : 9.270000,\\n      \"start\" : 8.820000,\\n      \"word\" : \"actual\"\\n    }, {\\n      \"conf\" : 1.000000,\\n      \"end\" : 9.660000,\\n      \"start\" : 9.270000,\\n      \"word\" : \"news\"\\n    }, {\\n      \"conf\" : 1.000000,\\n      \"end\" : 9.780000,\\n      \"start\" : 9.660000,\\n      \"word\" : \"in\"\\n    }, {\\n      \"conf\" : 1.000000,\\n      \"end\" : 9.870000,\\n      \"start\" : 9.780000,\\n      \"word\" : \"the\"\\n    }, {\\n      \"conf\" : 1.000000,\\n      \"end\" : 10.260000,\\n      \"start\" : 9.870000,\\n      \"word\" : \"news\"\\n    }, {\\n      \"conf\" : 1.000000,\\n      \"end\" : 10.470000,\\n      \"start\" : 10.290000,\\n      \"word\" : \"and\"\\n    }, {\\n      \"conf\" : 1.000000,\\n      \"end\" : 10.590000,\\n      \"start\" : 10.470000,\\n      \"word\" : \"the\"\\n    }, {\\n      \"conf\" : 1.000000,\\n      \"end\" : 10.980000,\\n      \"start\" : 10.590000,\\n      \"word\" : \"interest\"\\n    }, {\\n      \"conf\" : 1.000000,\\n      \"end\" : 11.190000,\\n      \"start\" : 10.980000,\\n      \"word\" : \"rate\"\\n    }, {\\n      \"conf\" : 1.000000,\\n      \"end\" : 11.790000,\\n      \"start\" : 11.190000,\\n      \"word\" : \"increase\"\\n    }, {\\n      \"conf\" : 1.000000,\\n      \"end\" : 12.870000,\\n      \"start\" : 12.060000,\\n      \"word\" : \"wasn\\'t\"\\n    }, {\\n      \"conf\" : 1.000000,\\n      \"end\" : 13.350000,\\n      \"start\" : 12.990000,\\n      \"word\" : \"it\"\\n    }, {\\n      \"conf\" : 1.000000,\\n      \"end\" : 13.620000,\\n      \"start\" : 13.350000,\\n      \"word\" : \"you\"\\n    }, {\\n      \"conf\" : 0.798283,\\n      \"end\" : 13.770000,\\n      \"start\" : 13.620000,\\n      \"word\" : \"knew\"\\n    }, {\\n      \"conf\" : 1.000000,\\n      \"end\" : 13.890000,\\n      \"start\" : 13.770000,\\n      \"word\" : \"it\"\\n    }, {\\n      \"conf\" : 1.000000,\\n      \"end\" : 14.010000,\\n      \"start\" : 13.890000,\\n      \"word\" : \"was\"\\n    }, {\\n      \"conf\" : 1.000000,\\n      \"end\" : 14.400000,\\n      \"start\" : 14.010000,\\n      \"word\" : \"coming\"\\n    }, {\\n      \"conf\" : 1.000000,\\n      \"end\" : 14.850000,\\n      \"start\" : 14.580000,\\n      \"word\" : \"i\"\\n    }, {\\n      \"conf\" : 0.897670,\\n      \"end\" : 15.030000,\\n      \"start\" : 14.850000,\\n      \"word\" : \"knew\"\\n    }, {\\n      \"conf\" : 1.000000,\\n      \"end\" : 15.150000,\\n      \"start\" : 15.030000,\\n      \"word\" : \"it\"\\n    }, {\\n      \"conf\" : 1.000000,\\n      \"end\" : 15.300000,\\n      \"start\" : 15.150000,\\n      \"word\" : \"was\"\\n    }, {\\n      \"conf\" : 1.000000,\\n      \"end\" : 15.660000,\\n      \"start\" : 15.300000,\\n      \"word\" : \"common\"\\n    }, {\\n      \"conf\" : 1.000000,\\n      \"end\" : 16.110000,\\n      \"start\" : 15.660000,\\n      \"word\" : \"wall\"\\n    }, {\\n      \"conf\" : 1.000000,\\n      \"end\" : 16.470000,\\n      \"start\" : 16.110000,\\n      \"word\" : \"street\"\\n    }, {\\n      \"conf\" : 1.000000,\\n      \"end\" : 16.860000,\\n      \"start\" : 16.470000,\\n      \"word\" : \"news\"\\n    }, {\\n      \"conf\" : 1.000000,\\n      \"end\" : 17.070000,\\n      \"start\" : 16.860000,\\n      \"word\" : \"come\"\\n    }, {\\n      \"conf\" : 1.000000,\\n      \"end\" : 17.190000,\\n      \"start\" : 17.070000,\\n      \"word\" : \"and\"\\n    }, {\\n      \"conf\" : 1.000000,\\n      \"end\" : 18.210000,\\n      \"start\" : 17.190000,\\n      \"word\" : \"businesses\"\\n    }, {\\n      \"conf\" : 1.000000,\\n      \"end\" : 18.600000,\\n      \"start\" : 18.240000,\\n      \"word\" : \"knew\"\\n    }, {\\n      \"conf\" : 1.000000,\\n      \"end\" : 18.750000,\\n      \"start\" : 18.600000,\\n      \"word\" : \"it\"\\n    }, {\\n      \"conf\" : 1.000000,\\n      \"end\" : 18.930000,\\n      \"start\" : 18.750000,\\n      \"word\" : \"was\"\\n    }, {\\n      \"conf\" : 0.692318,\\n      \"end\" : 19.290000,\\n      \"start\" : 18.930000,\\n      \"word\" : \"common\"\\n    }, {\\n      \"conf\" : 1.000000,\\n      \"end\" : 20.070000,\\n      \"start\" : 19.740000,\\n      \"word\" : \"so\"\\n    }, {\\n      \"conf\" : 1.000000,\\n      \"end\" : 20.460000,\\n      \"start\" : 20.070000,\\n      \"word\" : \"on\"\\n    }, {\\n      \"conf\" : 1.000000,\\n      \"end\" : 20.760000,\\n      \"start\" : 20.490000,\\n      \"word\" : \"this\"\\n    }, {\\n      \"conf\" : 1.000000,\\n      \"end\" : 21.000000,\\n      \"start\" : 20.760000,\\n      \"word\" : \"fed\"\\n    }, {\\n      \"conf\" : 1.000000,\\n      \"end\" : 21.210000,\\n      \"start\" : 21.000000,\\n      \"word\" : \"day\"\\n    }, {\\n      \"conf\" : 1.000000,\\n      \"end\" : 21.330000,\\n      \"start\" : 21.210000,\\n      \"word\" : \"on\"\\n    }, {\\n      \"conf\" : 1.000000,\\n      \"end\" : 21.480000,\\n      \"start\" : 21.330000,\\n      \"word\" : \"this\"\\n    }, {\\n      \"conf\" : 1.000000,\\n      \"end\" : 21.900000,\\n      \"start\" : 21.480000,\\n      \"word\" : \"program\"\\n    }, {\\n      \"conf\" : 1.000000,\\n      \"end\" : 22.290000,\\n      \"start\" : 21.900000,\\n      \"word\" : \"something\"\\n    }, {\\n      \"conf\" : 1.000000,\\n      \"end\" : 22.350000,\\n      \"start\" : 22.290000,\\n      \"word\" : \"a\"\\n    }, {\\n      \"conf\" : 1.000000,\\n      \"end\" : 22.530000,\\n      \"start\" : 22.350000,\\n      \"word\" : \"little\"\\n    }, {\\n      \"conf\" : 1.000000,\\n      \"end\" : 22.650000,\\n      \"start\" : 22.530000,\\n      \"word\" : \"bit\"\\n    }, {\\n      \"conf\" : 1.000000,\\n      \"end\" : 22.980000,\\n      \"start\" : 22.650000,\\n      \"word\" : \"different\"\\n    }, {\\n      \"conf\" : 1.000000,\\n      \"end\" : 23.220000,\\n      \"start\" : 22.980000,\\n      \"word\" : \"jay\"\\n    }, {\\n      \"conf\" : 1.000000,\\n      \"end\" : 23.730000,\\n      \"start\" : 23.220000,\\n      \"word\" : \"powell\"\\n    }, {\\n      \"conf\" : 1.000000,\\n      \"end\" : 23.880000,\\n      \"start\" : 23.730000,\\n      \"word\" : \"in\"\\n    }, {\\n      \"conf\" : 1.000000,\\n      \"end\" : 24.030000,\\n      \"start\" : 23.880000,\\n      \"word\" : \"his\"\\n    }, {\\n      \"conf\" : 1.000000,\\n      \"end\" : 24.300000,\\n      \"start\" : 24.030000,\\n      \"word\" : \"own\"\\n    }, {\\n      \"conf\" : 1.000000,\\n      \"end\" : 24.630000,\\n      \"start\" : 24.300000,\\n      \"word\" : \"words\"\\n    }, {\\n      \"conf\" : 1.000000,\\n      \"end\" : 25.110000,\\n      \"start\" : 24.630000,\\n      \"word\" : \"five\"\\n    }, {\\n      \"conf\" : 1.000000,\\n      \"end\" : 25.260000,\\n      \"start\" : 25.110000,\\n      \"word\" : \"of\"\\n    }, {\\n      \"conf\" : 1.000000,\\n      \"end\" : 25.410000,\\n      \"start\" : 25.260000,\\n      \"word\" : \"\\'em\"\\n    }, {\\n      \"conf\" : 1.000000,\\n      \"end\" : 25.650000,\\n      \"start\" : 25.410000,\\n      \"word\" : \"his\"\\n    }, {\\n      \"conf\" : 1.000000,\\n      \"end\" : 26.160000,\\n      \"start\" : 25.650000,\\n      \"word\" : \"most\"\\n    }, {\\n      \"conf\" : 1.000000,\\n      \"end\" : 26.640000,\\n      \"start\" : 26.190000,\\n      \"word\" : \"used\"\\n    }, {\\n      \"conf\" : 1.000000,\\n      \"end\" : 27.143498,\\n      \"start\" : 26.640000,\\n      \"word\" : \"economic\"\\n    }, {\\n      \"conf\" : 0.616184,\\n      \"end\" : 27.360000,\\n      \"start\" : 27.150000,\\n      \"word\" : \"words\"\\n    }, {\\n      \"conf\" : 1.000000,\\n      \"end\" : 27.540000,\\n      \"start\" : 27.360000,\\n      \"word\" : \"from\"\\n    }, {\\n      \"conf\" : 1.000000,\\n      \"end\" : 27.810000,\\n      \"start\" : 27.540000,\\n      \"word\" : \"today\\'s\"\\n    }, {\\n      \"conf\" : 1.000000,\\n      \"end\" : 28.020000,\\n      \"start\" : 27.810000,\\n      \"word\" : \"press\"\\n    }, {\\n      \"conf\" : 1.000000,\\n      \"end\" : 28.380000,\\n      \"start\" : 28.020000,\\n      \"word\" : \"conference\"\\n    }, {\\n      \"conf\" : 0.628161,\\n      \"end\" : 29.070000,\\n      \"start\" : 28.860000,\\n      \"word\" : \"were\"\\n    }, {\\n      \"conf\" : 1.000000,\\n      \"end\" : 29.310000,\\n      \"start\" : 29.070000,\\n      \"word\" : \"number\"\\n    }, {\\n      \"conf\" : 1.000000,\\n      \"end\" : 29.580000,\\n      \"start\" : 29.310000,\\n      \"word\" : \"one\"\\n    }, {\\n      \"conf\" : 1.000000,\\n      \"end\" : 29.640000,\\n      \"start\" : 29.580000,\\n      \"word\" : \"of\"\\n    }, {\\n      \"conf\" : 1.000000,\\n      \"end\" : 30.120000,\\n      \"start\" : 29.640000,\\n      \"word\" : \"course\"\\n    }, {\\n      \"conf\" : 1.000000,\\n      \"end\" : 30.390000,\\n      \"start\" : 30.120000,\\n      \"word\" : \"it\\'s\"\\n    }, {\\n      \"conf\" : 1.000000,\\n      \"end\" : 30.480000,\\n      \"start\" : 30.390000,\\n      \"word\" : \"the\"\\n    }, {\\n      \"conf\" : 1.000000,\\n      \"end\" : 30.870000,\\n      \"start\" : 30.480000,\\n      \"word\" : \"biggie\"\\n    }, {\\n      \"conf\" : 1.000000,\\n      \"end\" : 31.440000,\\n      \"start\" : 31.230000,\\n      \"word\" : \"two\"\\n    }, {\\n      \"conf\" : 0.523302,\\n      \"end\" : 31.860000,\\n      \"start\" : 31.440000,\\n      \"word\" : \"percent\"\\n    }, {\\n      \"conf\" : 1.000000,\\n      \"end\" : 32.370000,\\n      \"start\" : 31.920000,\\n      \"word\" : \"inflation\"\\n    }, {\\n      \"conf\" : 1.000000,\\n      \"end\" : 32.700000,\\n      \"start\" : 32.370000,\\n      \"word\" : \"inflation\"\\n    }, {\\n      \"conf\" : 1.000000,\\n      \"end\" : 33.210000,\\n      \"start\" : 32.700000,\\n      \"word\" : \"inflation\"\\n    }, {\\n      \"conf\" : 1.000000,\\n      \"end\" : 33.810000,\\n      \"start\" : 33.210000,\\n      \"word\" : \"inflation\"\\n    }, {\\n      \"conf\" : 1.000000,\\n      \"end\" : 34.410000,\\n      \"start\" : 33.840000,\\n      \"word\" : \"inflation\"\\n    }, {\\n      \"conf\" : 1.000000,\\n      \"end\" : 34.770000,\\n      \"start\" : 34.410000,\\n      \"word\" : \"inflation\"\\n    }, {\\n      \"conf\" : 0.720460,\\n      \"end\" : 35.070000,\\n      \"start\" : 34.770000,\\n      \"word\" : \"lh\"\\n    }, {\\n      \"conf\" : 1.000000,\\n      \"end\" : 35.400000,\\n      \"start\" : 35.083737,\\n      \"word\" : \"dealing\"\\n    }, {\\n      \"conf\" : 1.000000,\\n      \"end\" : 35.550000,\\n      \"start\" : 35.400000,\\n      \"word\" : \"with\"\\n    }, {\\n      \"conf\" : 1.000000,\\n      \"end\" : 36.030000,\\n      \"start\" : 35.550000,\\n      \"word\" : \"inflation\"\\n    }, {\\n      \"conf\" : 1.000000,\\n      \"end\" : 36.630000,\\n      \"start\" : 36.300000,\\n      \"word\" : \"pals\"\\n    }, {\\n      \"conf\" : 1.000000,\\n      \"end\" : 36.870000,\\n      \"start\" : 36.630000,\\n      \"word\" : \"big\"\\n    }, {\\n      \"conf\" : 1.000000,\\n      \"end\" : 37.170000,\\n      \"start\" : 36.870000,\\n      \"word\" : \"worry\"\\n    }, {\\n      \"conf\" : 1.000000,\\n      \"end\" : 37.290000,\\n      \"start\" : 37.170000,\\n      \"word\" : \"the\"\\n    }, {\\n      \"conf\" : 1.000000,\\n      \"end\" : 37.560000,\\n      \"start\" : 37.290000,\\n      \"word\" : \"thing\"\\n    }, {\\n      \"conf\" : 1.000000,\\n      \"end\" : 37.920000,\\n      \"start\" : 37.560000,\\n      \"word\" : \"keeping\"\\n    }, {\\n      \"conf\" : 1.000000,\\n      \"end\" : 38.070000,\\n      \"start\" : 37.920000,\\n      \"word\" : \"him\"\\n    }, {\\n      \"conf\" : 1.000000,\\n      \"end\" : 38.250000,\\n      \"start\" : 38.070000,\\n      \"word\" : \"up\"\\n    }, {\\n      \"conf\" : 1.000000,\\n      \"end\" : 38.370000,\\n      \"start\" : 38.250000,\\n      \"word\" : \"at\"\\n    }, {\\n      \"conf\" : 1.000000,\\n      \"end\" : 38.670000,\\n      \"start\" : 38.370000,\\n      \"word\" : \"night\"\\n    }, {\\n      \"conf\" : 1.000000,\\n      \"end\" : 39.270000,\\n      \"start\" : 38.670000,\\n      \"word\" : \"price\"\\n    }, {\\n      \"conf\" : 1.000000,\\n      \"end\" : 40.380000,\\n      \"start\" : 39.300000,\\n      \"word\" : \"stability\"\\n    }, {\\n      \"conf\" : 1.000000,\\n      \"end\" : 40.650000,\\n      \"start\" : 40.380000,\\n      \"word\" : \"is\"\\n    }, {\\n      \"conf\" : 1.000000,\\n      \"end\" : 40.770000,\\n      \"start\" : 40.650000,\\n      \"word\" : \"the\"\\n    }, {\\n      \"conf\" : 0.997470,\\n      \"end\" : 41.130000,\\n      \"start\" : 40.770000,\\n      \"word\" : \"fed\\'s\"\\n    }, {\\n      \"conf\" : 1.000000,\\n      \"end\" : 41.670000,\\n      \"start\" : 41.160000,\\n      \"word\" : \"whole\"\\n    }, {\\n      \"conf\" : 0.971520,\\n      \"end\" : 42.300000,\\n      \"start\" : 41.670000,\\n      \"word\" : \"ballgame\"\\n    }, {\\n      \"conf\" : 1.000000,\\n      \"end\" : 42.480000,\\n      \"start\" : 42.300000,\\n      \"word\" : \"right\"\\n    }, {\\n      \"conf\" : 1.000000,\\n      \"end\" : 42.720000,\\n      \"start\" : 42.480000,\\n      \"word\" : \"now\"\\n    }, {\\n      \"conf\" : 0.511559,\\n      \"end\" : 43.139996,\\n      \"start\" : 42.720000,\\n      \"word\" : \"pau\"\\n    }, {\\n      \"conf\" : 1.000000,\\n      \"end\" : 43.620000,\\n      \"start\" : 43.140000,\\n      \"word\" : \"basically\"\\n    }, {\\n      \"conf\" : 1.000000,\\n      \"end\" : 44.040000,\\n      \"start\" : 43.620000,\\n      \"word\" : \"said\"\\n    }, {\\n      \"conf\" : 1.000000,\\n      \"end\" : 44.280000,\\n      \"start\" : 44.040000,\\n      \"word\" : \"as\"\\n    }, {\\n      \"conf\" : 1.000000,\\n      \"end\" : 44.640000,\\n      \"start\" : 44.280000,\\n      \"word\" : \"much\"\\n    }, {\\n      \"conf\" : 0.733687,\\n      \"end\" : 45.150000,\\n      \"start\" : 44.760000,\\n      \"word\" : \"today\"\\n    }, {\\n      \"conf\" : 0.289918,\\n      \"end\" : 45.327404,\\n      \"start\" : 45.150000,\\n      \"word\" : \"we\\'re\"\\n    }],\\n  \"text\" : \"the funny thing about the big economic news of the day the fed raising interest rates half a percentage point was that there was only really one tidbit of actual news in the news and the interest rate increase wasn\\'t it you knew it was coming i knew it was common wall street news come and businesses knew it was common so on this fed day on this program something a little bit different jay powell in his own words five of \\'em his most used economic words from today\\'s press conference were number one of course it\\'s the biggie two percent inflation inflation inflation inflation inflation inflation lh dealing with inflation pals big worry the thing keeping him up at night price stability is the fed\\'s whole ballgame right now pau basically said as much today we\\'re\"\\n}'"
      ]
     },
     "execution_count": 7,
     "metadata": {},
     "output_type": "execute_result"
    }
   ],
   "source": [
    "result"
   ]
  },
  {
   "cell_type": "code",
   "execution_count": 8,
   "id": "a8ed2892-ce39-4105-9f13-ffebc9726218",
   "metadata": {},
   "outputs": [],
   "source": [
    "import json\n",
    "text = json.loads(result)[\"text\"]"
   ]
  },
  {
   "cell_type": "code",
   "execution_count": 9,
   "id": "abeea5c5-defc-439a-a0f3-5cccb942410f",
   "metadata": {},
   "outputs": [
    {
     "data": {
      "text/plain": [
       "\"the funny thing about the big economic news of the day the fed raising interest rates half a percentage point was that there was only really one tidbit of actual news in the news and the interest rate increase wasn't it you knew it was coming i knew it was common wall street news come and businesses knew it was common so on this fed day on this program something a little bit different jay powell in his own words five of 'em his most used economic words from today's press conference were number one of course it's the biggie two percent inflation inflation inflation inflation inflation inflation lh dealing with inflation pals big worry the thing keeping him up at night price stability is the fed's whole ballgame right now pau basically said as much today we're\""
      ]
     },
     "execution_count": 9,
     "metadata": {},
     "output_type": "execute_result"
    }
   ],
   "source": [
    "text"
   ]
  },
  {
   "cell_type": "code",
   "execution_count": 10,
   "id": "dd3105f0-1785-4e45-bb91-187d17713471",
   "metadata": {},
   "outputs": [],
   "source": [
    "# !pip install torch -f https://download.pytorch.org/whl/torch_stable.html"
   ]
  },
  {
   "cell_type": "code",
   "execution_count": null,
   "id": "1eefd040",
   "metadata": {},
   "outputs": [],
   "source": [
    "# Recasepunc Cell\n",
    "\n",
    "import subprocess\n",
    "\n",
    "cased = subprocess.check_output('python recasepunc/recasepunc.py predict recasepunc/checkpoint', shell=True, text=True, input=text)"
   ]
  },
  {
   "cell_type": "code",
   "execution_count": null,
   "id": "6ad67398",
   "metadata": {},
   "outputs": [],
   "source": [
    "# Use this only if Recasepunc model works \n",
    "\n",
    "def voice_recognition(filename):\n",
    "    model = Model(model_name=\"vosk-model-en-us-0.22\")\n",
    "    rec = KaldiRecognizer(model, FRAME_RATE)\n",
    "    rec.SetWords(True)\n",
    "    \n",
    "    mp3 = AudioSegment.from_mp3(filename)\n",
    "    mp3 = mp3.set_channels(CHANNELS)\n",
    "    mp3 = mp3.set_frame_rate(FRAME_RATE)\n",
    "    \n",
    "    step = 45000\n",
    "    transcript = \"\"\n",
    "    for i in range(0, len(mp3), step):\n",
    "        print(f\"Progress: {i/len(mp3)}\")\n",
    "        segment = mp3[i:i+step]\n",
    "        rec.AcceptWaveform(segment.raw_data)\n",
    "        result = rec.Result()\n",
    "        text = json.loads(result)[\"text\"]\n",
    "        transcript += text\n",
    "    \n",
    "    cased = subprocess.check_output('python recasepunc/recasepunc.py predict recasepunc/checkpoint', shell=True, text=True, input=transcript)\n",
    "    return cased"
   ]
  },
  {
   "cell_type": "code",
   "execution_count": 11,
   "id": "fd416309-91ac-4acc-9a7a-d3b29d1051a1",
   "metadata": {},
   "outputs": [],
   "source": [
    "def voice_recognition(filename):\n",
    "    model = Model(model_name=\"vosk-model-en-us-0.22\")\n",
    "    rec = KaldiRecognizer(model, FRAME_RATE)\n",
    "    rec.SetWords(True)\n",
    "    \n",
    "    mp3 = AudioSegment.from_mp3(filename)\n",
    "    mp3 = mp3.set_channels(CHANNELS)\n",
    "    mp3 = mp3.set_frame_rate(FRAME_RATE)\n",
    "    \n",
    "    step = 45000\n",
    "    transcript = \"\"\n",
    "    for i in range(0, len(mp3), step):\n",
    "        print(f\"Progress: {i/len(mp3)}\")\n",
    "        segment = mp3[i:i+step]\n",
    "        rec.AcceptWaveform(segment.raw_data)\n",
    "        result = rec.Result()\n",
    "        text = json.loads(result)[\"text\"]\n",
    "        transcript += text\n",
    "    \n",
    "    return transcript"
   ]
  },
  {
   "cell_type": "code",
   "execution_count": 12,
   "id": "eec81c65-2708-4b59-96f1-831a02c5e16b",
   "metadata": {},
   "outputs": [
    {
     "name": "stderr",
     "output_type": "stream",
     "text": [
      "LOG (VoskAPI:ReadDataFiles():model.cc:213) Decoding params beam=13 max-active=7000 lattice-beam=6\n",
      "LOG (VoskAPI:ReadDataFiles():model.cc:216) Silence phones 1:2:3:4:5:11:12:13:14:15\n",
      "LOG (VoskAPI:RemoveOrphanNodes():nnet-nnet.cc:948) Removed 0 orphan nodes.\n",
      "LOG (VoskAPI:RemoveOrphanComponents():nnet-nnet.cc:847) Removing 0 orphan components.\n",
      "LOG (VoskAPI:ReadDataFiles():model.cc:248) Loading i-vector extractor from /Users/eyash.p24/.cache/vosk/vosk-model-en-us-0.22/ivector/final.ie\n",
      "LOG (VoskAPI:ComputeDerivedVars():ivector-extractor.cc:183) Computing derived variables for iVector extractor\n",
      "LOG (VoskAPI:ComputeDerivedVars():ivector-extractor.cc:204) Done.\n",
      "LOG (VoskAPI:ReadDataFiles():model.cc:279) Loading HCLG from /Users/eyash.p24/.cache/vosk/vosk-model-en-us-0.22/graph/HCLG.fst\n",
      "LOG (VoskAPI:ReadDataFiles():model.cc:294) Loading words from /Users/eyash.p24/.cache/vosk/vosk-model-en-us-0.22/graph/words.txt\n",
      "LOG (VoskAPI:ReadDataFiles():model.cc:303) Loading winfo /Users/eyash.p24/.cache/vosk/vosk-model-en-us-0.22/graph/phones/word_boundary.int\n",
      "LOG (VoskAPI:ReadDataFiles():model.cc:310) Loading subtract G.fst model from /Users/eyash.p24/.cache/vosk/vosk-model-en-us-0.22/rescore/G.fst\n",
      "LOG (VoskAPI:ReadDataFiles():model.cc:312) Loading CARPA model from /Users/eyash.p24/.cache/vosk/vosk-model-en-us-0.22/rescore/G.carpa\n",
      "LOG (VoskAPI:ReadDataFiles():model.cc:318) Loading RNNLM model from /Users/eyash.p24/.cache/vosk/vosk-model-en-us-0.22/rnnlm/final.raw\n"
     ]
    },
    {
     "name": "stdout",
     "output_type": "stream",
     "text": [
      "Progress: 0.0\n",
      "Progress: 0.02666815218151411\n",
      "Progress: 0.05333630436302822\n",
      "Progress: 0.08000445654454233\n",
      "Progress: 0.10667260872605644\n",
      "Progress: 0.13334076090757055\n",
      "Progress: 0.16000891308908466\n",
      "Progress: 0.18667706527059877\n",
      "Progress: 0.21334521745211288\n",
      "Progress: 0.240013369633627\n",
      "Progress: 0.2666815218151411\n",
      "Progress: 0.29334967399665524\n",
      "Progress: 0.3200178261781693\n",
      "Progress: 0.34668597835968346\n",
      "Progress: 0.37335413054119754\n",
      "Progress: 0.4000222827227117\n",
      "Progress: 0.42669043490422576\n",
      "Progress: 0.4533585870857399\n",
      "Progress: 0.480026739267254\n",
      "Progress: 0.5066948914487681\n",
      "Progress: 0.5333630436302822\n",
      "Progress: 0.5600311958117963\n",
      "Progress: 0.5866993479933105\n",
      "Progress: 0.6133675001748246\n",
      "Progress: 0.6400356523563386\n",
      "Progress: 0.6667038045378528\n",
      "Progress: 0.6933719567193669\n",
      "Progress: 0.720040108900881\n",
      "Progress: 0.7467082610823951\n"
     ]
    },
    {
     "name": "stderr",
     "output_type": "stream",
     "text": [
      "WARNING (VoskAPI:LinearCgd():optimization.cc:549) Doing linear CGD in dimension 100, after 15 iterations the squared residual has got worse, 1.66873 > 1.15864.  Will do an exact optimization.\n"
     ]
    },
    {
     "name": "stdout",
     "output_type": "stream",
     "text": [
      "Progress: 0.7733764132639093\n",
      "Progress: 0.8000445654454234\n",
      "Progress: 0.8267127176269374\n",
      "Progress: 0.8533808698084515\n",
      "Progress: 0.8800490219899657\n",
      "Progress: 0.9067171741714798\n",
      "Progress: 0.9333853263529939\n",
      "Progress: 0.960053478534508\n",
      "Progress: 0.9867216307160221\n"
     ]
    }
   ],
   "source": [
    "transcript = voice_recognition(\"marketplace_full.mp3\")"
   ]
  },
  {
   "cell_type": "code",
   "execution_count": null,
   "id": "70ab4455",
   "metadata": {},
   "outputs": [],
   "source": [
    "MODEL_NAME = \"sshleifer/distilbart-cnn-12-6\"\n",
    "SAVE_PATH = \"./saved_model\"\n",
    "\n",
    "# Download & save\n",
    "model = AutoModelForSeq2SeqLM.from_pretrained(MODEL_NAME)\n",
    "tokenizer = AutoTokenizer.from_pretrained(MODEL_NAME)\n",
    "\n",
    "model.save_pretrained(SAVE_PATH)\n",
    "tokenizer.save_pretrained(SAVE_PATH)"
   ]
  },
  {
   "cell_type": "code",
   "execution_count": 14,
   "id": "244b0941",
   "metadata": {},
   "outputs": [
    {
     "name": "stderr",
     "output_type": "stream",
     "text": [
      "/opt/miniconda3/envs/envAU/lib/python3.11/site-packages/transformers/models/bart/configuration_bart.py:176: UserWarning: Please make sure the config includes `forced_bos_token_id=0` in future versions. The config can simply be saved and uploaded again to be fixed.\n",
      "  warnings.warn(\n",
      "Device set to use mps:0\n"
     ]
    }
   ],
   "source": [
    "summarizer2 = pipeline(\"summarization\", model=\"./saved_model\", tokenizer=\"./saved_model\")"
   ]
  },
  {
   "cell_type": "code",
   "execution_count": 15,
   "id": "18e3b982-da04-4f17-9b49-28bdcf8c2151",
   "metadata": {},
   "outputs": [],
   "source": [
    "split_tokens = transcript.split(\" \")\n",
    "docs = []\n",
    "for i in range(0, len(split_tokens), 850):\n",
    "    selection = \" \".join(split_tokens[i:(i+850)])\n",
    "    docs.append(selection)"
   ]
  },
  {
   "cell_type": "code",
   "execution_count": 16,
   "id": "2e676348",
   "metadata": {},
   "outputs": [
    {
     "data": {
      "text/plain": [
       "[\"turns out fifty four dollars and twenty cents was not a joke from american public media this is marketplace the in los angeles ca raised on monday today i do believe the twenty fifth of april good as always to have you along everybody alright just for fun i am going to see if i can do this in two hundred and eighty characters which is of course twitter's limit starting right now after making a not very veiled marijuana reference in offering fifty four dollarstwenty cents a share to buy twitter elon musk has sealed the deal as of today lauren hirsch has been covering the story for the new york times thanks for coming on thanks for having me setting aside all marijuana jokes that many people made with this price that musk offered and clearly he was serious and now this has happened in an unbelievably fast timeline right and we will be fast i tell you i was at a shower yesterday communicating like us to where it's kind of casually tracking and then my source code i think there could be detailed in my out and i got whacked how is that even possible and you know i don't think most people never thought a deal would have happened and even if people thought they weren't it'd be a deal i don't think anyone thought it could have possibly happenedthis quickly he gets all the money together they have these board meetings over the weekend and then today it's a done deal let me ask you this though and and this may be a longer answer than we have time for in the program today why does elon musk want to buy twitter i can tell you what he has said which is he is he would call himself an advocate for free speech and he doesn't like the way that twitter has managed content on it's platform and he wants to change that he's spoken in statement today about a kind of decentralizing it's contents with effectively allowing users to personalize that content that they see on the app but i'll tell you a lot of people really don't know that is what he said butit feels like there might be something deeper here you know to spend forty billion dollars largely on money right i notice you didn't say he wants to make money he wants to run it as a better business and show the the the the logical extension of that is here you have an american oligarch buying a global communications platform and a worker just going to have to see what happens we're just gonna have to see what happens i don't think we have really ever seen anything like this you know obviously that fans have thought otherwise in both but that was very different he said he would not get involved at all editorially and elon musk has cited editorial concern because his desire in buying itnow that we don't really know what the end goal is here and he sat on his ted talk the day you are bound to be announced in bed that profit is not a motive so it'll be interesting to see how this turns out it will indeed turn to the nuts and bolts of this negotiation and he comes in and says i want to buy twitter and here's my price final offer the board says i dunno there's talk about a poison pill the boards clearly not excited and then presto chango the board says yes did they just give up and say you know what we don't have a better way to run this thing you do it the big presto changer with han putting together financing many people thought he would never be able to do it but on wednesday on thursday he made public that he had actually call it togetheri think more than the actual offer ended up being so that changed the game for the board all of a sudden they had to take the offer seriously and the pressure was mounting shareholders recalling and at a certain point you have to listen to your shareholders and they seem to be indicating they wanted to go with elon feel so last thing and then i'll let you go because i know you've got reporting to do on your on twitter i'm on twitter lots of people we both know are on twitter journalists and many others but the overwhelming majority of the american public isn't why do we care about this that's an excellent question i think it goes to what we were discussing earlier you know the power of well certainly in our country to effectivelyget pretty much anything you want i don't think anyone thought that twitter western sites but the fact that he's the richest person in the country makes vs yes the richest person in the world makes it so in all of that you know as a journalist you kind of have this very idealistic view of communications and\",\n",
       " \"media and how it should be ryan and this really has taken the rug out from under that because this is a man with a clear view and he's going to run it with that clear view and i think we all need to rethink their ramifications on communication in the country lauren hirsch covers business and most recently the twitter store in atlanta most of the new york times lauren thanks a lot i appreciate your time thanks for having me that introduction by the waytwo hundred and forty five characters nailed it twitter shares on this monday up almost six percent still though a couple of bucks shy of must offer of one hundred and fifty four dollars twenty cents a piece elsewhere the major indices were up we'll have the details when we do the numbers or mark your calendars for friday everybody that's when the latest inflation numbers are going to be out we told you about the march consumer price index couple of weeks ago up eight and onehalf per cent year on year as you're surely know by now this friday we get p c e that's personal consumption expenditures which the federal reserve really likes but as we all know everybody is watching inflation right now there are though some nuances in the way that people experience inflation that the official metrics just don't capture so i think maybe it could be helpful to like tell a story to sort of emphasize sort of one of the reasons that i decided to study this topic and i thought it was interesting i'm sorry you are yeah but it's jacob orchard so i'm a phd candidate at u c san diego and actually just finishing up my phd and so then after that i'll be doctor orchard but until then i'm stillalright well then future doctor orchard please go on in twenty eleven bill dudley who was the president of the new york fed at the time he was doing an outreach speech to a blue collar community in new york another the reason for the speeches people were concerned about cost of living just like they are today but unlike today the actual official measurer of inflation wasn't that high back then some prices food and energy of course were going up a lot other prices not really so much the cp i the consumer price index was up two point seven percent year over year when bill dudley gave that speech eight and a half percent day as we all knowand as an example of why the fed wasn't super concerned about inflation give an example of you know if you look at the ipad two which had just come out it's the same price as the ipad one and better introductory cost of an ipad one four hundred and ninety nine dollars introductory cost of an ipad two a year later four hundred and ninety nine dollars you know some prices are going down and then someone from the audience shouted we can't eat an ipad fact check true and i think this just goes to show that you don't maybe the prices of some things aren't that important for some people so the actual topic of my dissertation is how the price index forlow income and high income households can systematically differ over the course of the business cycle in other words where you are on the income spectrum determines your personal inflation rate right now from march twenty twenty two so this last report that we got compared to march twenty twenty one the inflation rate for low income households was running at about nine percent are from high income households is much closer to the average inflation rate at eight and a half percent in other words inflation is high for everybody but there is a gap and if you step back for a second and think big picture i kind of make sense the two biggest sources of inflation are energy prices and food that stephanie said nino professor of economics at the universityeighty of vermont and for low income families they comprise a much larger portion of the budget so poor families undoubtedly are hit hard and there is another piece of this we gotta talk about inflation and jobs the overall inflation rate is at a forty year high the overall unemployment rate three point six percent darn near fifty year lows but there is a huge caveat there latino unemployment rate four point two percent in march the black unemployment rate six point two percent i want to be clear that when you ask people in a survey do they care more about unemployment or inflation they say unemployment they wouldrather live with some inflation and have a job that have low inflation and no job here's the thing though you can raise interest rates to fight inflation which the fed does that slows the economy and that usually increases unemployment we call it the sacrifice ratio and the sacrifice is disproportionately paid for\",\n",
       " \"by people of color that is african americans and hispanics are disproportionately likely to lose their jobs and your job which you can read as your wages right that affects what you buy which gets reflected in those inflation numbers the overall cp i is meant to capture the spending patterns of a typical household but really nobody's the typical household and that guythis last point how we measure inflation in this economy then you'll sickle is a professor at wellesley also though he's the chair of a national academy of sciences committee that is studying ways to modernize the consumer price index make it better right and more useful the bls does publish a couple of versions of the cpr already but there's plenty of room for improvement like they could do what jacob orchard and other researchers member jacob orchard the almost doctor up from the top could do what they do using data on spending patterns to dis aggregate the sepia by step further than that would be to develop a data system where they really could link prices of particular items to the demographic characteristics of thethe people buying them that would be kind of like the holy grail which would be super useful in the meanwhile though waiting for the holy grail later on this week the fed's favorite inflation metric pc he will tell you why that is the one that they like ooh one more quick thing on inflation and wages this time the national association for business economics is out with a new survey of economists to work at big companies andthose economists a record number of them say their businesses have been book and pay increases of late yeah but here's marketplace's nancy marshall cancer in leicester jones's world you need muscle we rely on a lot of manual labor jones is chief economist at the national beer wholesalers association we move cases of beverages throughout the economy they're heavy junk says some distributors are competing fiercely for workers and it's like that all over seventy percent of the economists surveyed said wages rose at their companies that's the highest number in the surveys forty year history but for the most part employers aren't boosting wayage is enough to keep up with soaring prices cornell labor economist erica grossman has a theory on that they don't want to get too far ahead of inflation because it's hard to dial that back some economists in their survey don't expect their firms to pay workers more in the future say over the next three months brad her spine a senior economist at the w e upjohn institute for employment research says that's because employers expect inflation to moderate people think that a lot of the supply chain issues will gradually get resolved and that the war situation in ukraine may also eventually die down or at least get partially resolved but in the meantime many workers will be stuck with raises that don't keep up with rising powerrice is enriched by and says inflation may not get back to normal levels until next year i'm nancy marshall cancer for marketplace the coming up you need to keep that stock up or some one will do it for you well alrighty then first though let's do the numbers that industrials up to thirty eight today seven cents per cent thirty four thousand and forty nine and as that picked up one hundred and sixty five points about one point three percent thirty thousand fourthe s and p five hundred up twenty four points almost sixteen percent finished at forty two ninety six trading and twitter was suspended for bridges before the purchase of the social media platform was announced before that shares up five and two thirds percent left shares worth about five percent less than musk's offer of fifty four dollars and twenty cents a piece the deal hammered shares of digital world acquisition corp the spec that is trying to merge with donald trump's social platform share their bound twelve and nine tenths percent read into that what you will news of the deal also sent shares of musk's other company lower no not the space company or the total company the electric car company tesla down seven tenths of one percent today are listening to market bythis marketplace podcast is supported by masterworks the law of capitalism predicted that one percent of us earners now hold more wealth than all of the middle class and while they got richer sitting in their yachts sipping champagne during the pandemic they also got richer thanks to the amazing compounding power of their holy grail investments for example take a look at contemporary art while most people would brush this holy grail investment aside they don't realize that an investment in a banksy painting gave an unidentified collector ten million dollars a basquiat painting sold for fifty million dollars to another buyer and a warhol for an amazing one hundred and ninety five million dollars and while most people don'tthink they can get involved\",\n",
       " \"in this holy grail investment a fintech platform called masterworks has changed all that masterworks allows you to invest in artworks by banksy basquiat and warhol they pore over millions of data points to identify particular artworks that could soar in price then they purchase them securitize them so you can invest in these multi million dollar assets like shares we even partnered with masterworks so that marketplace listeners can skip their waitlist just go to masterworks dot io slash marketplace to skip the waitlist that's masterworks dot io slash marketplace see important disclosures at masterworks dot com slash disclaimer this marketplace podcast is supported by checkout dot com now moremore than ever businesses have had to give real thought to their digital commerce payments are an integral part of any business but too often they're thought of as a business necessity rather than a strategic tool that can help businesses grow for that you need checkout dot com checkout dot com is a leading digital global payment solutions provider for brands like she and grab sony electronics wise and henkel checkouts flexible payments platform is purpose built with performance scalability and speed in mind ideal for businesses looking to seamlessly integrate better payment solutions globally with a dedicated team of local experts spanning nineteen offices and five continents checkout dot com offers a strategic partnership to help businesses improve their acceptance rates optimize their payments performmince and grow their business globally check out dot com exists to enable businesses and their communities to thrive in the digital economy discover how check-out dot com can help your business thrive at checkout dot com slash market that's checkout dot com slash market this is marketplace i'm kai rosedale lauren hirsch talked about why the twitter board took elon musk's offer of fifty for twenty a share when we were talking of the top of the show bottom line it's a good price and there were looking out she said for shareholders and that's the moderate american capitalism right maximizing shareholder value well yes and no i mean it is the mantra but how and why it came to be that waythe marketplaces got tongue looked into that forest back in two thousand and sixteen it all began with a professor at the university of chicago economist milton friedman wrote this in nineteen seventy there is one and only one social responsibility of business to increase it's profits for whom for stockholders he wrote this was a brand new idea that took because the old corporate model was crumbling under pressure from inflation and from weaken growth rick wordsmith of the drucker institute is the author of the end of loyalty coming out this year some called it slump violation inflammation was another one circulated but most famously was stag felation it exposed american companies as uncompetitive many companies had gotten fat and lazy during the golden age of american business we just didn't see the same starting to come apart until the late sixties early seventies friedman and his chicago colleagues argue that companies were taking on too many social responsibilities providing jobs helping to fight pollution and and discrimination it was inefficient we saw enormous amounts of waste going on economist mike jensen was a student of freedmen's and he co-wrote the most cited business paper ever shareholders suffered he wrote because executives were selfish they wanted perks you can't ignore the self interest of everybody that's inbull and you can't assume that firms maximize profits ceo is feathering their nests now some of us have a certain vintage recall the eighties film wall street it stars a rather of noxious shareholder gordon gekko here talking to other shareholders you are all being boiled screwed over by these bureaucrats with their steak like hunting and fishing trips their corporate jets and golden parachutes if you listen closely gordon gekko was channeling his inner university of chicago mike jensen if you shape up executives shape up companies and shareholders when quite often something that significantly new and right were basically right isrejected by the profession because it's too new but that all went away eventually it caught up it stuck jensen went on to become a superstar prof at harvard business school where his ideas went mainstream david lang staff was an m b a student then before going on to run companies in national defense the dominant and the accepted understanding at the time which continues is that business is there to make a profit for shareholders period so into the eighties echo chamber along with big hair and new coke went three business words maximize mike jensen may not use those words but that's how his ideas got applied by a whole generation of leadersroger martin ps former management dean at the university of toronto there was an obsession with shareholder value maximization as manifested in meeting your quarterly earnings for the analysts are all happy with you how happy stocks soared twelve fold in the eighties and nineties for every one dollar in profits eighty cents went to\",\n",
       " \"shareholders through dividends and what are called buybacks which brings us to the rub a fast way to fast profits is cutting jobs rick wortman of the drucker institute says what began to erode at this time is what he calls the corporate social contract that basically said if you come to work every day and you work hard and you give the corporation a measureor of loyalty we in turn will take care of you often for the rest of your life and all that change wages flattened pensions and healthcare benefits eroded this idea of maximizing shareholder value is an important reason why all that happen there are other reasons the rise of technology globalization the decline of unions but i'd put it right up there with any of those other factors to many the relevant case study here is general electric in the nineteen eighties run by an old college hockey captain named jack welch and ge in the fifties like many companies then made explicit that workers in research came first shareholders last but under welsh it downsized more than one hundred thousand workyears and five years one of his strategies being to dump the lowest ten percent of performers here's welch at the mit sloan school of business in two thousand and five okay you know exactly who the turkeys are and they're right amongst you baseball teams do it every day it's the way it is why should not have cats welsh cut entire divisions and plants he famously demanded that his managers fix it sell it or close it a lot of people initially were a little bit alarmed nicholas heymann of the investment bank william blair is a long long time ge analyst going all the way back to the eighties he spoke by phone g's actions spawned a lot more similar type of aggressive cost restructurebring across industrial america in the late eighties and throughout the nineties fair or not welch became the face of maximizing shareholder value it's winners and its losers in his two decades at the helm g he met wall street expectations almost every single quarter a fourteen billion dollar company became a more than four hundred billion behemoth welch himself made nearly a billion dollars so other executives followed sometimes to be like him and sometimes out of fear because in the mid eighties some testy shareholders with deep pockets started to buy out big companies and fire underperforming executives there's accountability this all took on different names from corporate raidersas to today's activist investors perhaps the most famous being carl icahn hedge fund manager jeff graham has written a book on these battles it's called dear chairman if you're the ceo of a company then you have to keep that stock up there's a famous quote from carl icahn from the nineteen eighties you need to keep that stock up or someone will do it for you shareholders first it became gospel but the question is is it even in the scripture does the law require it cornell law professor lynn stout is the author of the shareholder value myth there is a widespread and completely erroneous belief out there that there's some sort of legal duty that corporate managers have to quote maximize profits or maximamy shareholder value in stouts view the misplaced assumption comes from an old old case that sites stock holders interest but to stay out of the weeds here she argues it did not set precedent by contrast you can just pick up the supreme court case hobby lobby decided just a few years ago read the majority opinion where justice alito says and i quote modern corporate law does not require for profit corporations to pursue profit at the expense of everything else or just to be clear law professors still argue about this but the point is it's far from illegal given that companies have to make profits for shareholders and yet it became the law of the land and to stout it led directly to some bad decisions and run the bp oil spillthe financial crisis which brings us back to the man widely acclaimed as the intellectual father mike jensen is it happened exactly the way i wanted it to happen probably not jensen says the shareholder focus in some cases went overboard there's always going to be some people who take it too far and then cause damage he says focusing only on stocks and stock holders is a misreading of his scholarship for the record he wrote in nineteen ninety that ceo should quote do what is in the shareholders' best interest now he says i wouldn't put shareholders at the center i'm still unhappy about the situation where people end up thinking that shareholders are primarythere are only bosses no still maximizing shareholder value remains in fashion in one study of the s and p five hundred companies the share of profits going to stockholders has gone from fifty percent in the early eighties to eighty six percent in two thousand and thirteen\",\n",
       " \"leaving an ever shrinking pool of money to invest in the businesses themselves in washington has gotten on the marketplace hm the final note on the way out day an opportunity for you if you've got a spare five million or so dollarssaw this in the wall street journal today back in the before times warren buffett auctioned off a steak lunch with him every year proceeds to a charity in san francisco hasn't happened obviously since two thousand and nineteen and this year's launch we are told will be the last buffett is after all ninety one anyway bidding opens june the twelfth the two thousand and nineteen launched for some comparison went for four point six million american somalians of course you do get to bring seven friends are super quick moment of economic context a calendar reminder should you be so inclined elimusk's new company twitter of course reports earnings on thursday our daily production team is unease i'm in and corbyn richard cunningham real horse john mchenry and daisy palacios on car resolved we will see tomorrow the apia\"]"
      ]
     },
     "execution_count": 16,
     "metadata": {},
     "output_type": "execute_result"
    }
   ],
   "source": [
    "docs"
   ]
  },
  {
   "cell_type": "code",
   "execution_count": 17,
   "id": "ff0d8cd7-000f-419f-98ee-b57b747b01db",
   "metadata": {},
   "outputs": [
    {
     "name": "stdout",
     "output_type": "stream",
     "text": [
      " elon musk has sealed the deal as of today with his offer of fifty four dollarstwenty cents a share to buy twitter . i don't think most people never thought a deal would have happened and even if people thought they weren't it'd be a deal . i tell you i was at a shower yesterday communicating like us to where it's kind of casually tracking and then my source code i think there could be detailed in my out and i got whacked how is that even possible .\n",
      "\n",
      " twitter shares on this monday up almost six percent still though a couple of bucks shy of must offer of one hundred and fifty four dollars twenty cents a piece elsewhere the major indices were up we'll have the details when we do the numbers or mark your calendars for friday everybody that's when the latest inflation numbers are going to be out we told you about the march consumer price index couple of weeks ago up eight and onehalf per cent year on year .\n",
      "\n",
      " The national association for business economics is out with a new survey of economists to work at big companies . Over seventy percent of the economists surveyed said wages rose at their companies that's the highest number in the surveys forty year history . The law of capitalism predicted that one percent of us earners now hold more wealth than all of the middle class .\n",
      "\n",
      " marketplace podcast is supported by checkout dot com . Check-out dot com is a leading digital global payment solutions provider for brands like she and grab sony electronics wise and henkel checkouts . Marketplaces got tongue looked into forest back in two thousand and sixteen it all began with a professor at the university of chicago economist milton friedman wrote this in nineteen seventy .\n",
      "\n",
      " A fast way to fast profits is cutting jobs and cutting jobs . General electric in the nineteen eighties downsized more than one hundred thousand workyears and five years . In the mid eighties some testy shareholders with deep pockets started to buy out big companies and fire underperforming executives there's accountability this all took on different names from corporate raiders .\n",
      "\n",
      " An opportunity for you if you've got a spare five million or so dollarssaw this in the wall street journal today back in the before times warren buffett auctioned off a steak lunch with him every year proceeds to a charity in san francisco . The two thousand and nineteen launched went for four point six million somalians .\n"
     ]
    }
   ],
   "source": [
    "summaries = summarizer2(docs)\n",
    "summary = \"\\n\\n\".join([d[\"summary_text\"] for d in summaries])\n",
    "print(summary)"
   ]
  }
 ],
 "metadata": {
  "kernelspec": {
   "display_name": "envAU",
   "language": "python",
   "name": "python3"
  },
  "language_info": {
   "codemirror_mode": {
    "name": "ipython",
    "version": 3
   },
   "file_extension": ".py",
   "mimetype": "text/x-python",
   "name": "python",
   "nbconvert_exporter": "python",
   "pygments_lexer": "ipython3",
   "version": "3.11.11"
  }
 },
 "nbformat": 4,
 "nbformat_minor": 5
}
