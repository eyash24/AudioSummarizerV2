{
 "cells": [
  {
   "cell_type": "markdown",
   "id": "57968ab5",
   "metadata": {},
   "source": [
    "# Audio Transcripts Summarizer"
   ]
  },
  {
   "cell_type": "code",
   "execution_count": 1,
   "id": "e6629678-d45b-4dd8-a212-ce58ab4b5807",
   "metadata": {},
   "outputs": [],
   "source": [
    "from vosk import Model, KaldiRecognizer\n",
    "from pydub import AudioSegment\n",
    "import json\n",
    "from transformers import AutoModelForSeq2SeqLM, AutoTokenizer, pipeline"
   ]
  },
  {
   "cell_type": "code",
   "execution_count": 2,
   "id": "8a685c44",
   "metadata": {},
   "outputs": [],
   "source": [
    "FRAME_RATE = 16000\n",
    "CHANNELS = 1"
   ]
  },
  {
   "cell_type": "code",
   "execution_count": 3,
   "id": "9b442a1f",
   "metadata": {},
   "outputs": [],
   "source": [
    "MODEL_PATH = \"vosk-model-en-us-0.22\"\n",
    "model = Model(MODEL_PATH)"
   ]
  },
  {
   "cell_type": "code",
   "execution_count": 4,
   "id": "8529cd3a-0cdb-44c4-9b44-3bdb3c3c8413",
   "metadata": {},
   "outputs": [],
   "source": [
    "# model = Model(model_name=\"vosk-model-en-us-0.22\")\n",
    "# For a smaller download size, use model = Model(model_name=\"vosk-model-small-en-us-0.15\")\n",
    "rec = KaldiRecognizer(model, FRAME_RATE)\n",
    "rec.SetWords(True)"
   ]
  },
  {
   "cell_type": "code",
   "execution_count": 5,
   "id": "5a2908b5-bff4-4c43-a871-823166fd61fd",
   "metadata": {},
   "outputs": [],
   "source": [
    "mp3 = AudioSegment.from_mp3(\"marketplace.mp3\")\n",
    "mp3 = mp3.set_channels(CHANNELS)\n",
    "mp3 = mp3.set_frame_rate(FRAME_RATE)"
   ]
  },
  {
   "cell_type": "code",
   "execution_count": 6,
   "id": "9e3e81d0-0178-483e-9186-76916ffc5fd8",
   "metadata": {},
   "outputs": [],
   "source": [
    "rec.AcceptWaveform(mp3.raw_data)\n",
    "result = rec.Result()"
   ]
  },
  {
   "cell_type": "code",
   "execution_count": 7,
   "id": "b3234255",
   "metadata": {},
   "outputs": [
    {
     "data": {
      "text/plain": [
       "'{\\n  \"result\" : [{\\n      \"conf\" : 1.000000,\\n      \"end\" : 0.180000,\\n      \"start\" : 0.090000,\\n      \"word\" : \"the\"\\n    }, {\\n      \"conf\" : 1.000000,\\n      \"end\" : 0.570000,\\n      \"start\" : 0.180000,\\n      \"word\" : \"funny\"\\n    }, {\\n      \"conf\" : 1.000000,\\n      \"end\" : 0.960000,\\n      \"start\" : 0.600000,\\n      \"word\" : \"thing\"\\n    }, {\\n      \"conf\" : 1.000000,\\n      \"end\" : 1.230000,\\n      \"start\" : 0.960000,\\n      \"word\" : \"about\"\\n    }, {\\n      \"conf\" : 1.000000,\\n      \"end\" : 1.320000,\\n      \"start\" : 1.230000,\\n      \"word\" : \"the\"\\n    }, {\\n      \"conf\" : 1.000000,\\n      \"end\" : 1.680000,\\n      \"start\" : 1.320000,\\n      \"word\" : \"big\"\\n    }, {\\n      \"conf\" : 1.000000,\\n      \"end\" : 2.220000,\\n      \"start\" : 1.710000,\\n      \"word\" : \"economic\"\\n    }, {\\n      \"conf\" : 1.000000,\\n      \"end\" : 2.490000,\\n      \"start\" : 2.220000,\\n      \"word\" : \"news\"\\n    }, {\\n      \"conf\" : 1.000000,\\n      \"end\" : 2.580000,\\n      \"start\" : 2.490000,\\n      \"word\" : \"of\"\\n    }, {\\n      \"conf\" : 1.000000,\\n      \"end\" : 2.670000,\\n      \"start\" : 2.580000,\\n      \"word\" : \"the\"\\n    }, {\\n      \"conf\" : 1.000000,\\n      \"end\" : 3.060000,\\n      \"start\" : 2.670000,\\n      \"word\" : \"day\"\\n    }, {\\n      \"conf\" : 1.000000,\\n      \"end\" : 3.750000,\\n      \"start\" : 3.630000,\\n      \"word\" : \"the\"\\n    }, {\\n      \"conf\" : 1.000000,\\n      \"end\" : 3.960000,\\n      \"start\" : 3.750000,\\n      \"word\" : \"fed\"\\n    }, {\\n      \"conf\" : 1.000000,\\n      \"end\" : 4.260000,\\n      \"start\" : 3.960000,\\n      \"word\" : \"raising\"\\n    }, {\\n      \"conf\" : 1.000000,\\n      \"end\" : 4.590000,\\n      \"start\" : 4.260000,\\n      \"word\" : \"interest\"\\n    }, {\\n      \"conf\" : 1.000000,\\n      \"end\" : 4.980000,\\n      \"start\" : 4.590000,\\n      \"word\" : \"rates\"\\n    }, {\\n      \"conf\" : 1.000000,\\n      \"end\" : 5.280000,\\n      \"start\" : 5.010000,\\n      \"word\" : \"half\"\\n    }, {\\n      \"conf\" : 1.000000,\\n      \"end\" : 5.310000,\\n      \"start\" : 5.280000,\\n      \"word\" : \"a\"\\n    }, {\\n      \"conf\" : 1.000000,\\n      \"end\" : 5.700000,\\n      \"start\" : 5.310000,\\n      \"word\" : \"percentage\"\\n    }, {\\n      \"conf\" : 1.000000,\\n      \"end\" : 6.000000,\\n      \"start\" : 5.700000,\\n      \"word\" : \"point\"\\n    }, {\\n      \"conf\" : 1.000000,\\n      \"end\" : 6.870000,\\n      \"start\" : 6.600000,\\n      \"word\" : \"was\"\\n    }, {\\n      \"conf\" : 1.000000,\\n      \"end\" : 6.960000,\\n      \"start\" : 6.870000,\\n      \"word\" : \"that\"\\n    }, {\\n      \"conf\" : 1.000000,\\n      \"end\" : 7.080000,\\n      \"start\" : 6.960000,\\n      \"word\" : \"there\"\\n    }, {\\n      \"conf\" : 1.000000,\\n      \"end\" : 7.230000,\\n      \"start\" : 7.080000,\\n      \"word\" : \"was\"\\n    }, {\\n      \"conf\" : 1.000000,\\n      \"end\" : 7.470000,\\n      \"start\" : 7.230000,\\n      \"word\" : \"only\"\\n    }, {\\n      \"conf\" : 1.000000,\\n      \"end\" : 7.770000,\\n      \"start\" : 7.470000,\\n      \"word\" : \"really\"\\n    }, {\\n      \"conf\" : 1.000000,\\n      \"end\" : 8.130000,\\n      \"start\" : 7.770000,\\n      \"word\" : \"one\"\\n    }, {\\n      \"conf\" : 1.000000,\\n      \"end\" : 8.640000,\\n      \"start\" : 8.130000,\\n      \"word\" : \"tidbit\"\\n    }, {\\n      \"conf\" : 1.000000,\\n      \"end\" : 8.820000,\\n      \"start\" : 8.640000,\\n      \"word\" : \"of\"\\n    }, {\\n      \"conf\" : 1.000000,\\n      \"end\" : 9.270000,\\n      \"start\" : 8.820000,\\n      \"word\" : \"actual\"\\n    }, {\\n      \"conf\" : 1.000000,\\n      \"end\" : 9.660000,\\n      \"start\" : 9.270000,\\n      \"word\" : \"news\"\\n    }, {\\n      \"conf\" : 1.000000,\\n      \"end\" : 9.780000,\\n      \"start\" : 9.660000,\\n      \"word\" : \"in\"\\n    }, {\\n      \"conf\" : 1.000000,\\n      \"end\" : 9.870000,\\n      \"start\" : 9.780000,\\n      \"word\" : \"the\"\\n    }, {\\n      \"conf\" : 1.000000,\\n      \"end\" : 10.260000,\\n      \"start\" : 9.870000,\\n      \"word\" : \"news\"\\n    }, {\\n      \"conf\" : 1.000000,\\n      \"end\" : 10.470000,\\n      \"start\" : 10.290000,\\n      \"word\" : \"and\"\\n    }, {\\n      \"conf\" : 1.000000,\\n      \"end\" : 10.590000,\\n      \"start\" : 10.470000,\\n      \"word\" : \"the\"\\n    }, {\\n      \"conf\" : 1.000000,\\n      \"end\" : 10.980000,\\n      \"start\" : 10.590000,\\n      \"word\" : \"interest\"\\n    }, {\\n      \"conf\" : 1.000000,\\n      \"end\" : 11.190000,\\n      \"start\" : 10.980000,\\n      \"word\" : \"rate\"\\n    }, {\\n      \"conf\" : 1.000000,\\n      \"end\" : 11.790000,\\n      \"start\" : 11.190000,\\n      \"word\" : \"increase\"\\n    }, {\\n      \"conf\" : 1.000000,\\n      \"end\" : 12.870000,\\n      \"start\" : 12.060000,\\n      \"word\" : \"wasn\\'t\"\\n    }, {\\n      \"conf\" : 1.000000,\\n      \"end\" : 13.350000,\\n      \"start\" : 12.990000,\\n      \"word\" : \"it\"\\n    }, {\\n      \"conf\" : 1.000000,\\n      \"end\" : 13.620000,\\n      \"start\" : 13.350000,\\n      \"word\" : \"you\"\\n    }, {\\n      \"conf\" : 0.798811,\\n      \"end\" : 13.770000,\\n      \"start\" : 13.620000,\\n      \"word\" : \"knew\"\\n    }, {\\n      \"conf\" : 1.000000,\\n      \"end\" : 13.890000,\\n      \"start\" : 13.770000,\\n      \"word\" : \"it\"\\n    }, {\\n      \"conf\" : 1.000000,\\n      \"end\" : 14.010000,\\n      \"start\" : 13.890000,\\n      \"word\" : \"was\"\\n    }, {\\n      \"conf\" : 1.000000,\\n      \"end\" : 14.400000,\\n      \"start\" : 14.010000,\\n      \"word\" : \"coming\"\\n    }, {\\n      \"conf\" : 1.000000,\\n      \"end\" : 14.850000,\\n      \"start\" : 14.580000,\\n      \"word\" : \"i\"\\n    }, {\\n      \"conf\" : 0.897372,\\n      \"end\" : 15.030000,\\n      \"start\" : 14.850000,\\n      \"word\" : \"knew\"\\n    }, {\\n      \"conf\" : 1.000000,\\n      \"end\" : 15.150000,\\n      \"start\" : 15.030000,\\n      \"word\" : \"it\"\\n    }, {\\n      \"conf\" : 1.000000,\\n      \"end\" : 15.300000,\\n      \"start\" : 15.150000,\\n      \"word\" : \"was\"\\n    }, {\\n      \"conf\" : 1.000000,\\n      \"end\" : 15.660000,\\n      \"start\" : 15.300000,\\n      \"word\" : \"common\"\\n    }, {\\n      \"conf\" : 1.000000,\\n      \"end\" : 16.110000,\\n      \"start\" : 15.660000,\\n      \"word\" : \"wall\"\\n    }, {\\n      \"conf\" : 1.000000,\\n      \"end\" : 16.470000,\\n      \"start\" : 16.110000,\\n      \"word\" : \"street\"\\n    }, {\\n      \"conf\" : 1.000000,\\n      \"end\" : 16.860000,\\n      \"start\" : 16.470000,\\n      \"word\" : \"news\"\\n    }, {\\n      \"conf\" : 1.000000,\\n      \"end\" : 17.070000,\\n      \"start\" : 16.860000,\\n      \"word\" : \"come\"\\n    }, {\\n      \"conf\" : 1.000000,\\n      \"end\" : 17.190000,\\n      \"start\" : 17.070000,\\n      \"word\" : \"and\"\\n    }, {\\n      \"conf\" : 1.000000,\\n      \"end\" : 18.210000,\\n      \"start\" : 17.190000,\\n      \"word\" : \"businesses\"\\n    }, {\\n      \"conf\" : 1.000000,\\n      \"end\" : 18.600000,\\n      \"start\" : 18.240000,\\n      \"word\" : \"knew\"\\n    }, {\\n      \"conf\" : 1.000000,\\n      \"end\" : 18.750000,\\n      \"start\" : 18.600000,\\n      \"word\" : \"it\"\\n    }, {\\n      \"conf\" : 1.000000,\\n      \"end\" : 18.930000,\\n      \"start\" : 18.750000,\\n      \"word\" : \"was\"\\n    }, {\\n      \"conf\" : 0.693604,\\n      \"end\" : 19.290000,\\n      \"start\" : 18.930000,\\n      \"word\" : \"common\"\\n    }, {\\n      \"conf\" : 1.000000,\\n      \"end\" : 20.070000,\\n      \"start\" : 19.740000,\\n      \"word\" : \"so\"\\n    }, {\\n      \"conf\" : 1.000000,\\n      \"end\" : 20.460000,\\n      \"start\" : 20.070000,\\n      \"word\" : \"on\"\\n    }, {\\n      \"conf\" : 1.000000,\\n      \"end\" : 20.760000,\\n      \"start\" : 20.490000,\\n      \"word\" : \"this\"\\n    }, {\\n      \"conf\" : 1.000000,\\n      \"end\" : 21.000000,\\n      \"start\" : 20.760000,\\n      \"word\" : \"fed\"\\n    }, {\\n      \"conf\" : 1.000000,\\n      \"end\" : 21.210000,\\n      \"start\" : 21.000000,\\n      \"word\" : \"day\"\\n    }, {\\n      \"conf\" : 1.000000,\\n      \"end\" : 21.330000,\\n      \"start\" : 21.210000,\\n      \"word\" : \"on\"\\n    }, {\\n      \"conf\" : 1.000000,\\n      \"end\" : 21.480000,\\n      \"start\" : 21.330000,\\n      \"word\" : \"this\"\\n    }, {\\n      \"conf\" : 1.000000,\\n      \"end\" : 21.900000,\\n      \"start\" : 21.480000,\\n      \"word\" : \"program\"\\n    }, {\\n      \"conf\" : 1.000000,\\n      \"end\" : 22.290000,\\n      \"start\" : 21.900000,\\n      \"word\" : \"something\"\\n    }, {\\n      \"conf\" : 1.000000,\\n      \"end\" : 22.350000,\\n      \"start\" : 22.290000,\\n      \"word\" : \"a\"\\n    }, {\\n      \"conf\" : 1.000000,\\n      \"end\" : 22.530000,\\n      \"start\" : 22.350000,\\n      \"word\" : \"little\"\\n    }, {\\n      \"conf\" : 1.000000,\\n      \"end\" : 22.650000,\\n      \"start\" : 22.530000,\\n      \"word\" : \"bit\"\\n    }, {\\n      \"conf\" : 1.000000,\\n      \"end\" : 22.980000,\\n      \"start\" : 22.650000,\\n      \"word\" : \"different\"\\n    }, {\\n      \"conf\" : 1.000000,\\n      \"end\" : 23.220000,\\n      \"start\" : 22.980000,\\n      \"word\" : \"jay\"\\n    }, {\\n      \"conf\" : 1.000000,\\n      \"end\" : 23.730000,\\n      \"start\" : 23.220000,\\n      \"word\" : \"powell\"\\n    }, {\\n      \"conf\" : 1.000000,\\n      \"end\" : 23.880000,\\n      \"start\" : 23.730000,\\n      \"word\" : \"in\"\\n    }, {\\n      \"conf\" : 1.000000,\\n      \"end\" : 24.030000,\\n      \"start\" : 23.880000,\\n      \"word\" : \"his\"\\n    }, {\\n      \"conf\" : 1.000000,\\n      \"end\" : 24.300000,\\n      \"start\" : 24.030000,\\n      \"word\" : \"own\"\\n    }, {\\n      \"conf\" : 1.000000,\\n      \"end\" : 24.630000,\\n      \"start\" : 24.300000,\\n      \"word\" : \"words\"\\n    }, {\\n      \"conf\" : 1.000000,\\n      \"end\" : 25.110000,\\n      \"start\" : 24.630000,\\n      \"word\" : \"five\"\\n    }, {\\n      \"conf\" : 1.000000,\\n      \"end\" : 25.260000,\\n      \"start\" : 25.110000,\\n      \"word\" : \"of\"\\n    }, {\\n      \"conf\" : 1.000000,\\n      \"end\" : 25.410000,\\n      \"start\" : 25.260000,\\n      \"word\" : \"\\'em\"\\n    }, {\\n      \"conf\" : 1.000000,\\n      \"end\" : 25.650000,\\n      \"start\" : 25.410000,\\n      \"word\" : \"his\"\\n    }, {\\n      \"conf\" : 1.000000,\\n      \"end\" : 26.160000,\\n      \"start\" : 25.650000,\\n      \"word\" : \"most\"\\n    }, {\\n      \"conf\" : 1.000000,\\n      \"end\" : 26.640000,\\n      \"start\" : 26.190000,\\n      \"word\" : \"used\"\\n    }, {\\n      \"conf\" : 1.000000,\\n      \"end\" : 27.143558,\\n      \"start\" : 26.640000,\\n      \"word\" : \"economic\"\\n    }, {\\n      \"conf\" : 0.619731,\\n      \"end\" : 27.360000,\\n      \"start\" : 27.150000,\\n      \"word\" : \"words\"\\n    }, {\\n      \"conf\" : 1.000000,\\n      \"end\" : 27.540000,\\n      \"start\" : 27.360000,\\n      \"word\" : \"from\"\\n    }, {\\n      \"conf\" : 1.000000,\\n      \"end\" : 27.810000,\\n      \"start\" : 27.540000,\\n      \"word\" : \"today\\'s\"\\n    }, {\\n      \"conf\" : 1.000000,\\n      \"end\" : 28.020000,\\n      \"start\" : 27.810000,\\n      \"word\" : \"press\"\\n    }, {\\n      \"conf\" : 1.000000,\\n      \"end\" : 28.380000,\\n      \"start\" : 28.020000,\\n      \"word\" : \"conference\"\\n    }, {\\n      \"conf\" : 0.629290,\\n      \"end\" : 29.069998,\\n      \"start\" : 28.859998,\\n      \"word\" : \"were\"\\n    }, {\\n      \"conf\" : 1.000000,\\n      \"end\" : 29.310000,\\n      \"start\" : 29.070000,\\n      \"word\" : \"number\"\\n    }, {\\n      \"conf\" : 1.000000,\\n      \"end\" : 29.580000,\\n      \"start\" : 29.310000,\\n      \"word\" : \"one\"\\n    }, {\\n      \"conf\" : 1.000000,\\n      \"end\" : 29.640000,\\n      \"start\" : 29.580000,\\n      \"word\" : \"of\"\\n    }, {\\n      \"conf\" : 1.000000,\\n      \"end\" : 30.120000,\\n      \"start\" : 29.640000,\\n      \"word\" : \"course\"\\n    }, {\\n      \"conf\" : 1.000000,\\n      \"end\" : 30.390000,\\n      \"start\" : 30.120000,\\n      \"word\" : \"it\\'s\"\\n    }, {\\n      \"conf\" : 1.000000,\\n      \"end\" : 30.480000,\\n      \"start\" : 30.390000,\\n      \"word\" : \"the\"\\n    }, {\\n      \"conf\" : 1.000000,\\n      \"end\" : 30.870000,\\n      \"start\" : 30.480000,\\n      \"word\" : \"biggie\"\\n    }, {\\n      \"conf\" : 1.000000,\\n      \"end\" : 31.440000,\\n      \"start\" : 31.230000,\\n      \"word\" : \"two\"\\n    }, {\\n      \"conf\" : 0.523940,\\n      \"end\" : 31.860000,\\n      \"start\" : 31.440000,\\n      \"word\" : \"percent\"\\n    }, {\\n      \"conf\" : 1.000000,\\n      \"end\" : 32.370000,\\n      \"start\" : 31.920000,\\n      \"word\" : \"inflation\"\\n    }, {\\n      \"conf\" : 1.000000,\\n      \"end\" : 32.700000,\\n      \"start\" : 32.370000,\\n      \"word\" : \"inflation\"\\n    }, {\\n      \"conf\" : 1.000000,\\n      \"end\" : 33.210000,\\n      \"start\" : 32.700000,\\n      \"word\" : \"inflation\"\\n    }, {\\n      \"conf\" : 1.000000,\\n      \"end\" : 33.810000,\\n      \"start\" : 33.210000,\\n      \"word\" : \"inflation\"\\n    }, {\\n      \"conf\" : 1.000000,\\n      \"end\" : 34.410000,\\n      \"start\" : 33.840000,\\n      \"word\" : \"inflation\"\\n    }, {\\n      \"conf\" : 1.000000,\\n      \"end\" : 34.770000,\\n      \"start\" : 34.410000,\\n      \"word\" : \"inflation\"\\n    }, {\\n      \"conf\" : 0.717120,\\n      \"end\" : 35.070000,\\n      \"start\" : 34.770000,\\n      \"word\" : \"lh\"\\n    }, {\\n      \"conf\" : 1.000000,\\n      \"end\" : 35.400000,\\n      \"start\" : 35.083942,\\n      \"word\" : \"dealing\"\\n    }, {\\n      \"conf\" : 1.000000,\\n      \"end\" : 35.550000,\\n      \"start\" : 35.400000,\\n      \"word\" : \"with\"\\n    }, {\\n      \"conf\" : 1.000000,\\n      \"end\" : 36.030000,\\n      \"start\" : 35.550000,\\n      \"word\" : \"inflation\"\\n    }, {\\n      \"conf\" : 1.000000,\\n      \"end\" : 36.630000,\\n      \"start\" : 36.300000,\\n      \"word\" : \"pals\"\\n    }, {\\n      \"conf\" : 1.000000,\\n      \"end\" : 36.870000,\\n      \"start\" : 36.630000,\\n      \"word\" : \"big\"\\n    }, {\\n      \"conf\" : 1.000000,\\n      \"end\" : 37.170000,\\n      \"start\" : 36.870000,\\n      \"word\" : \"worry\"\\n    }, {\\n      \"conf\" : 1.000000,\\n      \"end\" : 37.290000,\\n      \"start\" : 37.170000,\\n      \"word\" : \"the\"\\n    }, {\\n      \"conf\" : 1.000000,\\n      \"end\" : 37.560000,\\n      \"start\" : 37.290000,\\n      \"word\" : \"thing\"\\n    }, {\\n      \"conf\" : 1.000000,\\n      \"end\" : 37.920000,\\n      \"start\" : 37.560000,\\n      \"word\" : \"keeping\"\\n    }, {\\n      \"conf\" : 1.000000,\\n      \"end\" : 38.070000,\\n      \"start\" : 37.920000,\\n      \"word\" : \"him\"\\n    }, {\\n      \"conf\" : 1.000000,\\n      \"end\" : 38.250000,\\n      \"start\" : 38.070000,\\n      \"word\" : \"up\"\\n    }, {\\n      \"conf\" : 1.000000,\\n      \"end\" : 38.370000,\\n      \"start\" : 38.250000,\\n      \"word\" : \"at\"\\n    }, {\\n      \"conf\" : 1.000000,\\n      \"end\" : 38.670000,\\n      \"start\" : 38.370000,\\n      \"word\" : \"night\"\\n    }, {\\n      \"conf\" : 1.000000,\\n      \"end\" : 39.270000,\\n      \"start\" : 38.670000,\\n      \"word\" : \"price\"\\n    }, {\\n      \"conf\" : 1.000000,\\n      \"end\" : 40.380000,\\n      \"start\" : 39.300000,\\n      \"word\" : \"stability\"\\n    }, {\\n      \"conf\" : 1.000000,\\n      \"end\" : 40.650000,\\n      \"start\" : 40.380000,\\n      \"word\" : \"is\"\\n    }, {\\n      \"conf\" : 1.000000,\\n      \"end\" : 40.770000,\\n      \"start\" : 40.650000,\\n      \"word\" : \"the\"\\n    }, {\\n      \"conf\" : 0.997413,\\n      \"end\" : 41.130000,\\n      \"start\" : 40.770000,\\n      \"word\" : \"fed\\'s\"\\n    }, {\\n      \"conf\" : 1.000000,\\n      \"end\" : 41.670000,\\n      \"start\" : 41.160000,\\n      \"word\" : \"whole\"\\n    }, {\\n      \"conf\" : 0.970882,\\n      \"end\" : 42.300000,\\n      \"start\" : 41.670000,\\n      \"word\" : \"ballgame\"\\n    }, {\\n      \"conf\" : 1.000000,\\n      \"end\" : 42.480000,\\n      \"start\" : 42.300000,\\n      \"word\" : \"right\"\\n    }, {\\n      \"conf\" : 1.000000,\\n      \"end\" : 42.720000,\\n      \"start\" : 42.480000,\\n      \"word\" : \"now\"\\n    }, {\\n      \"conf\" : 0.513789,\\n      \"end\" : 43.140000,\\n      \"start\" : 42.720000,\\n      \"word\" : \"pau\"\\n    }, {\\n      \"conf\" : 1.000000,\\n      \"end\" : 43.620000,\\n      \"start\" : 43.140000,\\n      \"word\" : \"basically\"\\n    }, {\\n      \"conf\" : 1.000000,\\n      \"end\" : 44.040000,\\n      \"start\" : 43.620000,\\n      \"word\" : \"said\"\\n    }, {\\n      \"conf\" : 1.000000,\\n      \"end\" : 44.280000,\\n      \"start\" : 44.040000,\\n      \"word\" : \"as\"\\n    }, {\\n      \"conf\" : 1.000000,\\n      \"end\" : 44.640000,\\n      \"start\" : 44.280000,\\n      \"word\" : \"much\"\\n    }, {\\n      \"conf\" : 0.735505,\\n      \"end\" : 45.150000,\\n      \"start\" : 44.760000,\\n      \"word\" : \"today\"\\n    }, {\\n      \"conf\" : 0.290469,\\n      \"end\" : 45.327378,\\n      \"start\" : 45.150000,\\n      \"word\" : \"we\\'re\"\\n    }],\\n  \"text\" : \"the funny thing about the big economic news of the day the fed raising interest rates half a percentage point was that there was only really one tidbit of actual news in the news and the interest rate increase wasn\\'t it you knew it was coming i knew it was common wall street news come and businesses knew it was common so on this fed day on this program something a little bit different jay powell in his own words five of \\'em his most used economic words from today\\'s press conference were number one of course it\\'s the biggie two percent inflation inflation inflation inflation inflation inflation lh dealing with inflation pals big worry the thing keeping him up at night price stability is the fed\\'s whole ballgame right now pau basically said as much today we\\'re\"\\n}'"
      ]
     },
     "execution_count": 7,
     "metadata": {},
     "output_type": "execute_result"
    }
   ],
   "source": [
    "result"
   ]
  },
  {
   "cell_type": "code",
   "execution_count": 8,
   "id": "a8ed2892-ce39-4105-9f13-ffebc9726218",
   "metadata": {},
   "outputs": [],
   "source": [
    "text = json.loads(result)[\"text\"]"
   ]
  },
  {
   "cell_type": "code",
   "execution_count": 9,
   "id": "abeea5c5-defc-439a-a0f3-5cccb942410f",
   "metadata": {},
   "outputs": [
    {
     "data": {
      "text/plain": [
       "\"the funny thing about the big economic news of the day the fed raising interest rates half a percentage point was that there was only really one tidbit of actual news in the news and the interest rate increase wasn't it you knew it was coming i knew it was common wall street news come and businesses knew it was common so on this fed day on this program something a little bit different jay powell in his own words five of 'em his most used economic words from today's press conference were number one of course it's the biggie two percent inflation inflation inflation inflation inflation inflation lh dealing with inflation pals big worry the thing keeping him up at night price stability is the fed's whole ballgame right now pau basically said as much today we're\""
      ]
     },
     "execution_count": 9,
     "metadata": {},
     "output_type": "execute_result"
    }
   ],
   "source": [
    "text"
   ]
  },
  {
   "cell_type": "code",
   "execution_count": 10,
   "id": "1eefd040",
   "metadata": {},
   "outputs": [
    {
     "name": "stdout",
     "output_type": "stream",
     "text": [
      "Output:\n",
      " The funny thing about the big economic news of the day, the Fed raising interest rates half a percentage point, was that there was only really one tidbit of actual news in the news. And the interest rate increase, wasn ' t it. You knew it was coming. I knew it was common Wall Street news come. And businesses knew it was common. So on this Fed day, on this program, something a little bit different. Jay Powell, in his own words, five of ' em. His most used economic words from today ' s press conference were number one, Of course, it ' s the biggie Two percent inflation, inflation, inflation, inflation, inflation, inflation. Lh Dealing with inflation pals Big worry. The thing keeping him up at night, price stability is the Fed ' s whole ballgame right now. Pau basically said as much today. We ' re.\n",
      "\n"
     ]
    }
   ],
   "source": [
    "import torch\n",
    "import torch.serialization\n",
    "\n",
    "# Override PyTorch's default behavior\n",
    "torch.serialization.load = lambda *args, **kwargs: torch.load(*args, weights_only=False, **kwargs)\n",
    "\n",
    "import os\n",
    "import subprocess\n",
    "\n",
    "python_path = \"C:/Users/avira/miniconda3/envs/my_env/python.exe\"\n",
    "script_path = r\"C:\\Users\\avira\\Downloads\\AudioSummarizerV2-main\\AudioSummarizerV2-main\\vosk-recasepunc-en-0.22\\recasepunc.py\"\n",
    "checkpoint_path = r\"C:\\Users\\avira\\Downloads\\AudioSummarizerV2-main\\AudioSummarizerV2-main\\vosk-recasepunc-en-0.22\\checkpoint\"\n",
    "\n",
    "command = f'\"{python_path}\" \"{script_path}\" predict \"{checkpoint_path}\"'\n",
    "\n",
    "try:\n",
    "    cased = subprocess.run(command, shell=True, text=True, input=text, capture_output=True, check=True)\n",
    "    print(\"Output:\\n\", cased.stdout)\n",
    "except subprocess.CalledProcessError as e:\n",
    "    print(\"Error Output:\\n\", e.stderr)"
   ]
  },
  {
   "cell_type": "code",
   "execution_count": 19,
   "id": "6ad67398",
   "metadata": {},
   "outputs": [],
   "source": [
    "def voice_recognition(filename):\n",
    "    model = Model(model_name=\"vosk-model-en-us-0.22\")\n",
    "    rec = KaldiRecognizer(model, FRAME_RATE)\n",
    "    rec.SetWords(True)\n",
    "    \n",
    "    mp3 = AudioSegment.from_mp3(filename)\n",
    "    mp3 = mp3.set_channels(CHANNELS)\n",
    "    mp3 = mp3.set_frame_rate(FRAME_RATE)\n",
    "    \n",
    "    step = 45000\n",
    "    transcript = \"\"\n",
    "    for i in range(0, len(mp3), step):\n",
    "        print(f\"Progress: {i/len(mp3)}\")\n",
    "        segment = mp3[i:i+step]\n",
    "        rec.AcceptWaveform(segment.raw_data)\n",
    "        result = rec.Result()\n",
    "        text = json.loads(result)[\"text\"]\n",
    "        transcript += text\n",
    "    \n",
    "    # Use Recasepunc model to add punctuation\n",
    "    python_path = \"C:/Users/avira/miniconda3/envs/my_env/python.exe\"\n",
    "    script_path = r\"C:\\Users\\avira\\Downloads\\AudioSummarizerV2-main\\AudioSummarizerV2-main\\vosk-recasepunc-en-0.22\\recasepunc.py\"\n",
    "    checkpoint_path = r\"C:\\Users\\avira\\Downloads\\AudioSummarizerV2-main\\AudioSummarizerV2-main\\vosk-recasepunc-en-0.22\\checkpoint\"\n",
    "\n",
    "    command = f'\"{python_path}\" \"{script_path}\" predict \"{checkpoint_path}\"'\n",
    "    \n",
    "    # Run subprocess and capture output\n",
    "    cased = subprocess.run(command, shell=True, text=True, input=transcript, capture_output=True, check=True)\n",
    "\n",
    "    # Extract the output from stdout and use it\n",
    "    cased_text = cased.stdout.strip()\n",
    "\n",
    "    # Now split the text into tokens\n",
    "    split_tokens = cased_text.split(\" \")\n",
    "    \n",
    "    docs = []\n",
    "    for i in range(0, len(split_tokens), 850):\n",
    "        selection = \" \".join(split_tokens[i:(i+850)])\n",
    "        docs.append(selection)\n",
    "    \n",
    "    return docs"
   ]
  },
  {
   "cell_type": "code",
   "execution_count": null,
   "id": "fd416309-91ac-4acc-9a7a-d3b29d1051a1",
   "metadata": {},
   "outputs": [],
   "source": [
    "\"\"\"def voice_recognition(filename):\n",
    "    model = Model(model_name=\"vosk-model-en-us-0.22\")\n",
    "    rec = KaldiRecognizer(model, FRAME_RATE)\n",
    "    rec.SetWords(True)\n",
    "    \n",
    "    mp3 = AudioSegment.from_mp3(filename)\n",
    "    mp3 = mp3.set_channels(CHANNELS)\n",
    "    mp3 = mp3.set_frame_rate(FRAME_RATE)\n",
    "    \n",
    "    step = 45000\n",
    "    transcript = \"\"\n",
    "    for i in range(0, len(mp3), step):\n",
    "        print(f\"Progress: {i/len(mp3)}\")\n",
    "        segment = mp3[i:i+step]\n",
    "        rec.AcceptWaveform(segment.raw_data)\n",
    "        result = rec.Result()\n",
    "        text = json.loads(result)[\"text\"]\n",
    "        transcript += text\n",
    "    \n",
    "    return transcript\"\"\""
   ]
  },
  {
   "cell_type": "code",
   "execution_count": 20,
   "id": "eec81c65-2708-4b59-96f1-831a02c5e16b",
   "metadata": {},
   "outputs": [
    {
     "name": "stdout",
     "output_type": "stream",
     "text": [
      "Progress: 0.0\n",
      "Progress: 0.02666815218151411\n",
      "Progress: 0.05333630436302822\n",
      "Progress: 0.08000445654454233\n",
      "Progress: 0.10667260872605644\n",
      "Progress: 0.13334076090757055\n",
      "Progress: 0.16000891308908466\n",
      "Progress: 0.18667706527059877\n",
      "Progress: 0.21334521745211288\n",
      "Progress: 0.240013369633627\n",
      "Progress: 0.2666815218151411\n",
      "Progress: 0.29334967399665524\n",
      "Progress: 0.3200178261781693\n",
      "Progress: 0.34668597835968346\n",
      "Progress: 0.37335413054119754\n",
      "Progress: 0.4000222827227117\n",
      "Progress: 0.42669043490422576\n",
      "Progress: 0.4533585870857399\n",
      "Progress: 0.480026739267254\n",
      "Progress: 0.5066948914487681\n",
      "Progress: 0.5333630436302822\n",
      "Progress: 0.5600311958117963\n",
      "Progress: 0.5866993479933105\n",
      "Progress: 0.6133675001748246\n",
      "Progress: 0.6400356523563386\n",
      "Progress: 0.6667038045378528\n",
      "Progress: 0.6933719567193669\n",
      "Progress: 0.720040108900881\n",
      "Progress: 0.7467082610823951\n",
      "Progress: 0.7733764132639093\n",
      "Progress: 0.8000445654454234\n",
      "Progress: 0.8267127176269374\n",
      "Progress: 0.8533808698084515\n",
      "Progress: 0.8800490219899657\n",
      "Progress: 0.9067171741714798\n",
      "Progress: 0.9333853263529939\n",
      "Progress: 0.960053478534508\n",
      "Progress: 0.9867216307160221\n"
     ]
    }
   ],
   "source": [
    "docs = voice_recognition(\"marketplace_full.mp3\")"
   ]
  },
  {
   "cell_type": "code",
   "execution_count": 21,
   "id": "efe94a75",
   "metadata": {},
   "outputs": [
    {
     "data": {
      "text/plain": [
       "[\"Turns out fifty four dollars and twenty cents was not a joke from American public media. This is Marketplace, The in Los Angeles, CA, raised on Monday today. I do believe the twenty fifth of April. Good as always to have you along, everybody. Alright ? Just for fun, I am going to see if I can do this in two hundred and eighty characters. Which is of course Twitter ' s limit starting right now. After making a not very veiled marijuana reference in offering fifty four dollarstwenty cents a share to buy Twitter, Elon Musk has sealed the deal. As of today, Lauren Hirsch has been covering the story for the New York Times. Thanks for coming on. Thanks for having me setting aside all marijuana jokes that many people made with this price that Musk offered. And clearly he was serious. And now this has happened in an unbelievably fast timeline, right ? And we will be fast. I tell you, I was at a shower yesterday communicating like us to where it ' s kind of casually tracking and then my source code. I think there could be detailed in my out and I got whacked How is that even possible ? And you know, I don ' t think most people never thought a deal would have happened. And even if people thought they weren ' t, it ' d be a deal. I don ' t think anyone thought it could have possibly happenedthis quickly he gets all the money together. They have these board meetings over the weekend and then today it ' s a done deal. Let me ask you this though, and and this may be a longer answer than we have time for in the program today. Why does Elon Musk want to buy Twitter ? I can tell you what he has said, which is he is. He would call himself an advocate for free speech, and he doesn ' t like the way that Twitter has managed content on it ' s platform. And he wants to change that. He ' s spoken in statement today about a kind of decentralizing it ' s contents with effectively allowing users to personalize that content that they see on the app. But I ' ll tell you a lot of people really don ' t know. That is what he said, butit feels like there might be something deeper here. You know, to spend forty billion dollars, largely on money, right ? I notice you didn ' t say he wants to make money. He wants to run it as a better business and show the the the. The logical extension of that is here you have an American oligarch buying a global communications platform and a mortgage. It ' s going to have to see what happens. We ' re just gonna have to see what happens. I don ' t think we have really ever seen anything like this, You know, obviously that fans have thought otherwise in both, but that was very different. He said he would not get involved at all editorially And Elon Musk has cited editorial concern because his desire in buying it fornow that we don ' t really know what the end goal is here. And he sat on his TED talk the day you are bound to be announced in bed that profit is not a motive. So it ' ll be interesting to see how this turns out. It will indeed turn to the nuts and bolts of this negotiation. And he comes in and says I want to buy Twitter. And here ' s my price. Final offer. The board says, I dunno There ' s talk about a poison pill. The boards clearly not excited and then presto chango The board says yes, Did they just give up and say you know what ? We don ' t have a better way to run this thing ? You do it. The big presto changer With Han putting together financing, many people thought he would never be able to do it. But on Wednesday on Thursday, he made public that he had actually call it togetherI think more than the actual offer ended up being. So that changed the game for the board. All of a sudden they had to take the offer seriously and the pressure was mounting. Shareholders recalling. And at a certain point you have to listen to your shareholders and they seem to be indicating they wanted to go with elon feel so. Last thing and then I ' ll let you go. Because I know you ' ve got reporting to do on your. On Twitter. I ' m on Twitter. Lots of people we both know are on Twitter, journalists and many others, but the overwhelming majority of the American public isn ' t. Why do we care about this ? That ' s an excellent question. I think it goes to what we were discussing earlier. You know, the power of. Well,\",\n",
       " \"certainly in our country, to effectivelyget pretty much anything you want. I don ' t think anyone thought that Twitter western sites, but the fact that he ' s the richest person in the country makes vs. Yes, the richest person in the world makes it so in all of that, you know, as a journalist, you kind of have this very idealistic view of communications and media and how it should be. Ryan, And this really has taken the rug out from under that because this is a man with a clear view and he ' s going to run it with that clear view. And I think we all need to rethink their ramifications on communication in the country. Lauren Hirsch covers business and most recently, the Twitter store in Atlanta, most of the New York Times. Lauren, Thanks a lot. I appreciate your time. Thanks for having me that introduction by the Waytwo Hundred and forty five characters nailed it. Twitter shares on this Monday up almost six percent still, though a couple of bucks shy of must offer of one hundred and fifty four dollars, twenty cents a piece elsewhere, the major indices were up. We ' ll have the details when we do the numbers, or mark your calendars for Friday. Everybody. That ' s when the latest inflation numbers are going to be out. We told you about the March Consumer Price Index couple of weeks ago, up eight and onehalf per cent year on year. As you ' re surely know by now, This Friday we get P. C. E. That ' s personal consumption expenditures, which the Federal Reserve really likes. But as we all know, everybody is watching inflation right now. There are, though some nuances in the way that people experience inflation that the official metrics just don ' t capture. So I think maybe it could be helpful to like tell a story to sort of emphasize sort of one of the reasons that I decided to study this topic, and I thought it was interesting. I ' m sorry you are. Yeah, but it ' s Jacob Orchard. So I ' m a phd candidate at U. C. San Diego and actually just finishing up my phd. And so then after that I ' ll be Doctor Orchard but until then. I ' m stillalright well then future Doctor Orchard, Please go on in twenty eleven. Bill Dudley, who was the president of the New York Fed at the time. He was doing an outreach speech to a blue collar community in New York. Another the reason for the speeches. People were concerned about cost of living just like they are today. But unlike today, the actual official measurer of inflation wasn ' t that high Back then. Some prices, food and energy, of course, were going up a lot. Other prices, not really so much. The CP I, the consumer price Index, was up two point seven percent year over year when Bill Dudley gave that speech. Eight and a half percent day As we all knowand as an example of why the Fed wasn ' t super concerned about inflation, give an example of. You know, if you look at the ipad two, which had just come out, it ' s the same price as the ipad one and better. Introductory cost of an ipad One four hundred and ninety nine dollars. Introductory cost of an ipad two a year later, Four hundred and ninety nine dollars. You know, some prices are going down. And then someone from the audience shouted, We can ' t eat an ipad Fact check. True, And I think this just goes to show that you don ' t. Maybe the prices of some things aren ' t that important for some people. So The actual topic of my dissertation is how the price index forlow income and high income households can systematically differ over the course of the business cycle. In other words, where you are on the income spectrum determines your personal inflation rate right now from March twenty twenty two. So this last report that we got compared to March Twenty twenty one, the inflation rate for low income households was running at about nine percent. Are from high income households is much closer to the average inflation rate at eight and a half percent. In other words, inflation is high for everybody. But there is a gap. And if you step back for a second and think big picture, I kind of make sense. The two biggest sources of inflation are energy prices and food, that, Stephanie said Nino, professor of economics at the Universityeighty of Vermont. And for low income families, they comprise a much larger portion of the budget. So poor families undoubtedly are hit hard. And there is another piece of this. We gotta talk about inflation and jobs. The overall inflation rate is at a forty year high. The overall unemployment rate three point six percent. Darn near fifty year lows But there\",\n",
       " \"is a huge caveat there. Latino unemployment rate, four point two percent in March, the black unemployment rate, six point two percent. I want to be clear that when you ask people in a survey do they care more about unemployment or inflation. They say unemployment, they wouldrather live with some inflation and have a job that have low inflation and no job. Here ' s the thing though, You can raise interest rates to fight inflation, which the Fed does that slows the economy and that usually increases unemployment. We call it the sacrifice ratio. And the sacrifice is disproportionately paid for by people of color. That is, African Americans and Hispanics are disproportionately likely to lose their jobs And your job, which you can read as your wages, right ? That affects what you buy, which gets reflected in those inflation numbers. The overall CP I is meant to capture the spending patterns of a typical household, but really nobody ' s the typical household. And that guythis last point, how we measure inflation in this economy, then you ' ll. Sickle is a professor at Wellesley also, though he ' s the chair of a National Academy of Sciences committee that is studying ways to modernize the consumer price index, make it better, right and more useful. The BLS does publish a couple of versions of the CPR already, but there ' s plenty of room for improvement. Like they could do what Jacob Orchard and other researchers member, Jacob Orchard, the almost doctor up from the top, could do what they do, using data on spending patterns to dis aggregate the sepia by step further than that would be to develop a data system where they really could link prices of particular items to the demographic characteristics of thethe people buying them. That would be kind of like the Holy Grail which would be super useful. In the meanwhile, though, waiting for the Holy Grail later on this week, the Fed ' s favorite inflation metric, PC, he will tell you why that is the one that they like. Ooh one more quick thing on inflation and wages. This time. The National Association for Business Economics is out with a new survey of economists to work at big companies andthose economists. A record number of them say their businesses have been book and pay increases of late. Yeah, but here ' s Marketplace ' s Nancy Marshall. Cancer in Leicester Jones ' s world. You need muscle. We rely on a lot of manual labor. Jones is chief economist at the National Beer Wholesalers Association. We move cases of beverages throughout the economy. They ' re heavy junk, says some distributors are competing fiercely for workers. And it ' s like that all over seventy percent of the economists surveyed said wages rose at their companies. That ' s the highest number in the surveys forty year history, But for the most part, employers aren ' t. Boosting wayage is enough to keep up with soaring prices. Cornell labor economist Erica Grossman has a theory on that they don ' t want to get too far ahead of inflation because it ' s hard to dial that back. Some economists in their survey don ' t expect their firms to pay workers more in the future, say over the next three months. Brad Her spine, a senior economist at the W. E. UpJohn Institute for Employment Research, says that ' s because employers expect inflation to moderate. People think that a lot of the supply chain issues will gradually get resolved and that the war situation in Ukraine may also eventually die down or at least get partially resolved. But in the meantime, many workers will be stuck with raises that don ' t keep up with rising powerrice is enriched by. And says inflation may not get back to normal levels until next year. I ' m Nancy Marshall. Cancer for Marketplace. The coming up. You need to keep that stock up or some one will do it for you. Well, alrighty then, first though, let ' s do the numbers that. Industrials up to thirty eight today. Seven cents per cent, thirty four thousand and forty nine. And as that picked up one hundred and sixty five points, about one point, three percent, thirty thousand fourthe s and p. Five hundred up twenty four points, almost sixteen percent, finished at forty two ninety six. Trading and Twitter was suspended for Bridges before the purchase of the social media platform was announced. Before that shares up five and two thirds percent left shares worth about five percent less than Musk ' s offer of fifty four dollars and twenty cents a piece. The deal hammered shares of Digital World Acquisition Corp. The spec that is trying to merge with Donald Trump ' s social platform. Share their bound twelve and nine tenths percent. Read into that what you will. News of the deal also sent shares of Musk ' s other company lower, No, not\",\n",
       " \"the Space company or the total company, the electric car company, Tesla, down seven tenths of one percent today are listening to Market byThis Marketplace Podcast is supported by Masterworks The Law of Capitalism predicted that one percent of US earners now hold more wealth than all of the middle class. And while they got richer sitting in their yachts sipping champagne during the pandemic they also got richer thanks to the amazing compounding power of their Holy Grail investments. For example, take a look at contemporary art. While most people would brush this Holy Grail investment aside, they don ' t realize that an investment in a banksy painting gave an unidentified collector ten million dollars, a Basquiat painting sold for fifty million dollars to another buyer and a Warhol for an amazing one hundred and ninety five million dollars. And while most people don ' tthink they can get involved in this Holy Grail investment a fintech platform called Masterworks has changed all that. Masterworks allows you to invest in artworks by Banksy Basquiat and Warhol They pore over millions of data points to identify particular artworks that could soar in price. Then they purchase them. Securitize them so you can invest in these multi million dollar assets like shares. We even partnered with Masterworks so that Marketplace listeners can skip their waitlist Just go to Masterworks dot io slash Marketplace. To skip the waitlist that ' s Masterworks dot io slash Marketplace. See important disclosures at Masterworks dot. Com slash Disclaimer This Marketplace podcast is supported by Checkout Dot. Com. Now, moremore than ever, businesses have had to give real thought to their digital commerce. Payments are an integral part of any business, but too often they ' re thought of as a business necessity rather than a strategic tool that can help businesses grow. For that you need, Checkout Dot. Com. Checkout dot. Com is a leading digital global payment solutions provider for brands like She and Grab, Sony Electronics, Wise and Henkel Checkouts Flexible payments platform is purpose built with performance, scalability and speed in mind, ideal for businesses looking to seamlessly integrate better payment solutions globally. With a dedicated team of local experts Spanning nineteen offices and five continents, Checkout dot. Com offers a strategic partnership to help businesses improve their acceptance rates, optimize their payments, performmince and grow their business globally. Check out Dot com exists to enable businesses and their communities to thrive in the digital economy. Discover how Checkout Dot com can help your business thrive at Checkout dot com slash Market. That ' s Checkout Dot com slash market. This is marketplace. I ' m Kai Rosedale Lauren Hirsch talked about why the Twitter board took Elon Musk ' s offer of fifty for twenty a share when we were talking of the top of the show. Bottom line, It ' s a good price and there were looking out, she said, for shareholders. And that ' s the moderate American capitalism, right, maximizing shareholder value. Well, yes and no. I mean it is the mantra. But how and why it came to be that wayThe marketplaces got tongue looked into that forest back in two thousand and sixteen. It all began with a professor at the University of Chicago. Economist Milton Friedman wrote this in nineteen seventy, There is one and only one social responsibility of business to increase it ' s profits, for whom for stockholders he wrote, This was a brand new idea that took because the old corporate model was crumbling under pressure from inflation and from weaken growth. Rick Wordsmith of the Drucker Institute is the author of The End of Loyalty coming out this year. Some called it. Slump violation inflammation was another one circulated, but most famously was stag felation It exposed American companies as uncompetitive Many companies had gotten fat and lazy during the Golden Age of American business. We just didn ' t see the same starting to come apart until the late sixties, early Seventies. Friedman and his Chicago colleagues argue that companies were taking on too many social responsibilities, providing jobs, helping to fight pollution and and discrimination. It was inefficient We saw enormous amounts of waste going on. Economist Mike Jensen was a student of Freedmen ' s and he cowrote the most cited business paper ever. Shareholders suffered, he wrote, Because executives were selfish, They wanted perks You can ' t ignore the self interest of everybody. That ' s inbull And you can ' t assume that firms maximize profits. CEO is feathering their nests. Now some of us have a certain vintage. Recall the eighties film Wall Street. It stars a rather of noxious shareholder, Gordon Gekko here talking to other shareholders. You are all being boiled screwed over by these bureaucrats with their steak like hunting and fishing trips, their corporate jets and golden parachutes If you listen closely, Gordon Gekko was channeling his inner University of Chicago, Mike Jensen. If you shape up executives, shape up companies and shareholders when quite often something\",\n",
       " \"that significantly new and right were basically right isrejected by the profession because it ' s too new. But that all went away. Eventually it caught up. It stuck. Jensen went on to become a superstar Prof at Harvard Business School, where his ideas went mainstream. David Lang Staff, was an M. B. A. Student then before going on to run companies in national defense. The dominant and the accepted understanding at the time, which continues, is that business is there to make a profit for shareholders, period. So into the eighties, Echo Chamber, along with Big Hair and New Coke went three business words, maximize. Mike Jensen may not use those words, but that ' s how his ideas got applied by a whole generation of Leadersroger Martin PS, former management dean at the University of Toronto. There was an obsession with shareholder value maximization as manifested in meeting your quarterly earnings. For the analysts are all happy with you. How happy stocks soared twelve fold in the eighties and nineties For every one dollar in profits, eighty cents went to shareholders through dividends and what are called buybacks which brings us to the rub. A fast way to fast profits is cutting jobs. Rick Wortman of the Drucker Institute says what began to erode at this time is what he calls the corporate social contract that basically said, If you come to work every day and you work hard and you give the corporation a measureor of loyalty. We, in turn will take care of you often for the rest of your life. And all that change, Wages flattened pensions and healthcare benefits eroded. This idea of maximizing shareholder value is an important reason why all that happen. There are other reasons, the rise of technology, globalization, the decline of unions. But I ' d put it right up there with any of those other factors. To many. The relevant case study here is General Electric in the nineteen Eighties, run by an old college hockey captain named Jack Welch and GE in the fifties, Like many companies, then made explicit that workers in research came first, shareholders last. But under Welsh it downsized more than one hundred thousand workyears and five years, one of his strategies being to dump the lowest ten percent of performers. Here ' s Welch at the MIT Sloan School of Business in two thousand and five. Okay, you know exactly who the turkeys are, and they ' re right amongst you. Baseball teams do it every day. It ' s the way it is. Why should not have cats ? Welsh cut entire divisions and plants. He famously demanded that his managers fix it, sell it or close it. A lot of people initially were a little bit alarmed. Nicholas Heymann of the investment bank. William Blair is a long, long time GE analyst, going all the way back to the eighties. He spoke by phone. G ' s actions spawned a lot more similar type of aggressive cost restructurebring across industrial America. In the late eighties and throughout the nineties Fair or not, Welch became the face of maximizing shareholder value. It ' s winners and its losers. In his two decades at the helm, G, He met Wall Street expectations almost every single quarter. A fourteen billion dollar company became a more than four hundred billion behemoth Welch himself made nearly a billion dollars, So other executives followed, sometimes to be like him, and sometimes out of fear. Because in the mid eighties, some testy shareholders with deep pockets started to buy out big companies and fire underperforming executives. There ' s accountability. This all took on different names, from corporate raidersas to today ' s activist investors, perhaps the most famous being Carl icahn Hedge fund manager Jeff Graham has written a book on these battles. It ' s called Dear Chairman, If you ' re the CEO of a company, then you have to keep that stock up. There ' s a famous quote from Carl Icahn from the nineteen Eighties. You need to keep that stock up, or someone will do it for you shareholders First, it became gospel. But the question is, is it even in the scripture, does the law require it ? Cornell Law Professor Lynn Stout is the author of the Shareholder Value Myth. There is a widespread and completely erroneous belief out there that there ' s some sort of legal duty that corporate managers have to quote maximize profits or maximamy shareholder value. In Stouts view, the misplaced assumption comes from an old old case that sites stock holders interest. But to stay out of the weeds here, she argues, it did not set precedent. By contrast, you can just pick up the Supreme Court case Hobby Lobby decided just a few years ago. Read the majority opinion where Justice Alito says, and I quote, Modern corporate law does not require for profit corporations to pursue profit at the expense of everything else. Or just to be clear, law professors still\",\n",
       " \"argue about this, but the point is it ' s far from illegal given that companies have to make profits for shareholders. And yet it became the law of the land. And to Stout, it led directly to some bad decisions and run the BP oil spillthe financial crisis, which brings us back to the man widely acclaimed as the intellectual father Mike Jensen. Is it happened exactly the way I wanted it to happen. Probably not, Jensen says the shareholder focus in some cases went overboard. There ' s always going to be some people who take it too far and then cause damage, he says. Focusing only on stocks and stock holders is a misreading of his scholarship. For the record, he wrote in Nineteen ninety that CEO should quote Do what is in the shareholders ' best interest Now, he says. I wouldn ' t put shareholders at the center. I ' m still unhappy about the situation where people end up thinking that shareholders are primarythere are only bosses. No, Still maximizing shareholder value remains in fashion. In one study of the S. And P. Five hundred companies, the share of profits going to stockholders has gone from fifty percent in the early eighties to eighty six percent in two thousand and thirteen, leaving an ever shrinking pool of money to invest in. The businesses themselves in Washington has gotten on the marketplace. HM. The final note on the Way out day. An opportunity for you, if you ' ve got a spare five million or so dollarssaw this in the Wall Street Journal today, Back in the before times, Warren Buffett auctioned off a steak lunch with him every year. Proceeds to a charity in San Francisco Hasn ' t happened, obviously since Two thousand and nineteen. And this year ' s launch, we are told, will be the last. Buffett is, after all, ninety one. Anyway, bidding opens June the twelfth. The two thousand and nineteen launched, for some comparison, went for four point six million American Somalians Of course, you do get to bring seven friends are super quick. Moment of economic context. A calendar reminder, should you be so inclined. Elimusk ' s new company, Twitter, of course, reports earnings on Thursday our Daily production team is unease, I ' m in and Corbyn Richard Cunningham, Real horse, John McHenry and Daisy Palacios on car. Resolved We will see tomorrow The APIa\"]"
      ]
     },
     "execution_count": 21,
     "metadata": {},
     "output_type": "execute_result"
    }
   ],
   "source": [
    "docs"
   ]
  },
  {
   "cell_type": "code",
   "execution_count": 15,
   "id": "70ab4455",
   "metadata": {},
   "outputs": [
    {
     "name": "stderr",
     "output_type": "stream",
     "text": [
      "c:\\Users\\avira\\miniconda3\\envs\\my_env\\Lib\\site-packages\\transformers\\modeling_utils.py:3353: UserWarning: Moving the following attributes in the config to the generation config: {'max_length': 142, 'min_length': 56, 'early_stopping': True, 'num_beams': 4, 'length_penalty': 2.0, 'no_repeat_ngram_size': 3, 'forced_bos_token_id': 0}. You are seeing this warning because you've set generation parameters in the model config, as opposed to in the generation config.\n",
      "  warnings.warn(\n"
     ]
    },
    {
     "data": {
      "text/plain": [
       "('./saved_model\\\\tokenizer_config.json',\n",
       " './saved_model\\\\special_tokens_map.json',\n",
       " './saved_model\\\\vocab.json',\n",
       " './saved_model\\\\merges.txt',\n",
       " './saved_model\\\\added_tokens.json',\n",
       " './saved_model\\\\tokenizer.json')"
      ]
     },
     "execution_count": 15,
     "metadata": {},
     "output_type": "execute_result"
    }
   ],
   "source": [
    "MODEL_NAME = \"sshleifer/distilbart-cnn-12-6\"\n",
    "SAVE_PATH = \"./saved_model\"\n",
    "\n",
    "# Download & save\n",
    "model = AutoModelForSeq2SeqLM.from_pretrained(MODEL_NAME)\n",
    "tokenizer = AutoTokenizer.from_pretrained(MODEL_NAME)\n",
    "\n",
    "model.save_pretrained(SAVE_PATH)\n",
    "tokenizer.save_pretrained(SAVE_PATH)"
   ]
  },
  {
   "cell_type": "code",
   "execution_count": 16,
   "id": "244b0941",
   "metadata": {},
   "outputs": [
    {
     "name": "stderr",
     "output_type": "stream",
     "text": [
      "c:\\Users\\avira\\miniconda3\\envs\\my_env\\Lib\\site-packages\\transformers\\models\\bart\\configuration_bart.py:176: UserWarning: Please make sure the config includes `forced_bos_token_id=0` in future versions. The config can simply be saved and uploaded again to be fixed.\n",
      "  warnings.warn(\n",
      "Device set to use cpu\n"
     ]
    }
   ],
   "source": [
    "summarizer2 = pipeline(\"summarization\", model=\"./saved_model\", tokenizer=\"./saved_model\")"
   ]
  },
  {
   "cell_type": "code",
   "execution_count": 22,
   "id": "ff0d8cd7-000f-419f-98ee-b57b747b01db",
   "metadata": {},
   "outputs": [
    {
     "name": "stdout",
     "output_type": "stream",
     "text": [
      " This is Marketplace, The in Los Angeles, CA, raised on Monday today . After making a not very veiled marijuana reference in offering fifty four dollarstwenty cents a share to buy Twitter, Elon Musk has sealed the deal . Marketplace's Lauren Hirsch has been covering the story for the New York Times .\n",
      "\n",
      " Twitter shares on this Monday up almost six percent still, though a couple of bucks shy of must offer of one hundred and fifty four dollars, twenty cents a piece elsewhere, the major indices were up . Jacob Orchard, a phd candidate at U.C. San Diego, tells how the price index forlow income and high income households can systematically differ over the course of the business cycle .\n",
      "\n",
      " The National Association for Business Economics is out with a new survey of economists to work at big companies and those economists . A record number of economists say their businesses have been book and pay increases of late . But for the most part, employers aren't boosting wages enough to keep up with soaring prices .\n",
      "\n",
      " One percent of US earners now hold more wealth than all of the middle class . Masterworks allows you to invest in artworks by Banksy Basquiat and Warhol . Checkout Dot. Com is a leading digital global payment solutions provider for brands like She and Grab, Sony Electronics, Wise and Henkel .\n",
      "\n",
      " The dominant and the accepted understanding at the time, which continues, is that business is there to make a profit for shareholders, period . Mike Jensen went on to become a superstar Prof at Harvard Business School, where his ideas went mainstream . David Lang Staff, was an M. B. A. Student before going on to run companies in national defense .\n",
      "\n",
      " Mike Stout: Share of profits going to stockholders has gone from fifty percent in the early eighties to eighty six percent in two thousand and thirteen . Buffett auctioned off a steak lunch with him every year . Twitter, Elimusk 's new company, Twitter, reports earnings on Thursday our Daily production team is unease .\n"
     ]
    }
   ],
   "source": [
    "summaries = summarizer2(docs)\n",
    "summary = \"\\n\\n\".join([d[\"summary_text\"] for d in summaries])\n",
    "print(summary)"
   ]
  }
 ],
 "metadata": {
  "kernelspec": {
   "display_name": "my_env",
   "language": "python",
   "name": "python3"
  },
  "language_info": {
   "codemirror_mode": {
    "name": "ipython",
    "version": 3
   },
   "file_extension": ".py",
   "mimetype": "text/x-python",
   "name": "python",
   "nbconvert_exporter": "python",
   "pygments_lexer": "ipython3",
   "version": "3.12.9"
  }
 },
 "nbformat": 4,
 "nbformat_minor": 5
}
